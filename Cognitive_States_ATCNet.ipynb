{
  "nbformat": 4,
  "nbformat_minor": 0,
  "metadata": {
    "colab": {
      "provenance": [],
      "authorship_tag": "ABX9TyOy02PM6uDQQPr04+xmv4J1",
      "include_colab_link": true
    },
    "kernelspec": {
      "name": "python3",
      "display_name": "Python 3"
    },
    "language_info": {
      "name": "python"
    }
  },
  "cells": [
    {
      "cell_type": "markdown",
      "metadata": {
        "id": "view-in-github",
        "colab_type": "text"
      },
      "source": [
        "<a href=\"https://colab.research.google.com/github/SPal-14/EEG-Data-Analysis-using-advanced-Deep-Learning-/blob/main/Cognitive_States_ATCNet.ipynb\" target=\"_parent\"><img src=\"https://colab.research.google.com/assets/colab-badge.svg\" alt=\"Open In Colab\"/></a>"
      ]
    },
    {
      "cell_type": "markdown",
      "source": [
        "# Classification of Different Cognitive States using ATCNet"
      ],
      "metadata": {
        "id": "5xmn-iSxnJBc"
      }
    },
    {
      "cell_type": "markdown",
      "source": [
        "## Installing the required Modules"
      ],
      "metadata": {
        "id": "RRXlKitBn1BT"
      }
    },
    {
      "cell_type": "code",
      "source": [
        "pip install mne numpy pandas matplotlib scikit-learn tensorflow pyedflib"
      ],
      "metadata": {
        "colab": {
          "base_uri": "https://localhost:8080/"
        },
        "id": "PrUvJOvMn_gG",
        "outputId": "66e0c8fc-a10b-4081-f6a4-f2ead10e23bc"
      },
      "execution_count": 4,
      "outputs": [
        {
          "output_type": "stream",
          "name": "stdout",
          "text": [
            "Requirement already satisfied: mne in /usr/local/lib/python3.10/dist-packages (1.7.1)\n",
            "Requirement already satisfied: numpy in /usr/local/lib/python3.10/dist-packages (1.25.2)\n",
            "Requirement already satisfied: pandas in /usr/local/lib/python3.10/dist-packages (2.0.3)\n",
            "Requirement already satisfied: matplotlib in /usr/local/lib/python3.10/dist-packages (3.7.1)\n",
            "Requirement already satisfied: scikit-learn in /usr/local/lib/python3.10/dist-packages (1.2.2)\n",
            "Requirement already satisfied: tensorflow in /usr/local/lib/python3.10/dist-packages (2.15.0)\n",
            "Collecting pyedflib\n",
            "  Downloading pyEDFlib-0.1.37-cp310-cp310-manylinux_2_17_x86_64.manylinux2014_x86_64.whl (2.7 MB)\n",
            "\u001b[2K     \u001b[90m━━━━━━━━━━━━━━━━━━━━━━━━━━━━━━━━━━━━━━━━\u001b[0m \u001b[32m2.7/2.7 MB\u001b[0m \u001b[31m11.3 MB/s\u001b[0m eta \u001b[36m0:00:00\u001b[0m\n",
            "\u001b[?25hRequirement already satisfied: decorator in /usr/local/lib/python3.10/dist-packages (from mne) (4.4.2)\n",
            "Requirement already satisfied: jinja2 in /usr/local/lib/python3.10/dist-packages (from mne) (3.1.4)\n",
            "Requirement already satisfied: lazy-loader>=0.3 in /usr/local/lib/python3.10/dist-packages (from mne) (0.4)\n",
            "Requirement already satisfied: packaging in /usr/local/lib/python3.10/dist-packages (from mne) (24.1)\n",
            "Requirement already satisfied: pooch>=1.5 in /usr/local/lib/python3.10/dist-packages (from mne) (1.8.2)\n",
            "Requirement already satisfied: scipy>=1.7.1 in /usr/local/lib/python3.10/dist-packages (from mne) (1.11.4)\n",
            "Requirement already satisfied: tqdm in /usr/local/lib/python3.10/dist-packages (from mne) (4.66.4)\n",
            "Requirement already satisfied: python-dateutil>=2.8.2 in /usr/local/lib/python3.10/dist-packages (from pandas) (2.8.2)\n",
            "Requirement already satisfied: pytz>=2020.1 in /usr/local/lib/python3.10/dist-packages (from pandas) (2023.4)\n",
            "Requirement already satisfied: tzdata>=2022.1 in /usr/local/lib/python3.10/dist-packages (from pandas) (2024.1)\n",
            "Requirement already satisfied: contourpy>=1.0.1 in /usr/local/lib/python3.10/dist-packages (from matplotlib) (1.2.1)\n",
            "Requirement already satisfied: cycler>=0.10 in /usr/local/lib/python3.10/dist-packages (from matplotlib) (0.12.1)\n",
            "Requirement already satisfied: fonttools>=4.22.0 in /usr/local/lib/python3.10/dist-packages (from matplotlib) (4.53.0)\n",
            "Requirement already satisfied: kiwisolver>=1.0.1 in /usr/local/lib/python3.10/dist-packages (from matplotlib) (1.4.5)\n",
            "Requirement already satisfied: pillow>=6.2.0 in /usr/local/lib/python3.10/dist-packages (from matplotlib) (9.4.0)\n",
            "Requirement already satisfied: pyparsing>=2.3.1 in /usr/local/lib/python3.10/dist-packages (from matplotlib) (3.1.2)\n",
            "Requirement already satisfied: joblib>=1.1.1 in /usr/local/lib/python3.10/dist-packages (from scikit-learn) (1.4.2)\n",
            "Requirement already satisfied: threadpoolctl>=2.0.0 in /usr/local/lib/python3.10/dist-packages (from scikit-learn) (3.5.0)\n",
            "Requirement already satisfied: absl-py>=1.0.0 in /usr/local/lib/python3.10/dist-packages (from tensorflow) (1.4.0)\n",
            "Requirement already satisfied: astunparse>=1.6.0 in /usr/local/lib/python3.10/dist-packages (from tensorflow) (1.6.3)\n",
            "Requirement already satisfied: flatbuffers>=23.5.26 in /usr/local/lib/python3.10/dist-packages (from tensorflow) (24.3.25)\n",
            "Requirement already satisfied: gast!=0.5.0,!=0.5.1,!=0.5.2,>=0.2.1 in /usr/local/lib/python3.10/dist-packages (from tensorflow) (0.6.0)\n",
            "Requirement already satisfied: google-pasta>=0.1.1 in /usr/local/lib/python3.10/dist-packages (from tensorflow) (0.2.0)\n",
            "Requirement already satisfied: h5py>=2.9.0 in /usr/local/lib/python3.10/dist-packages (from tensorflow) (3.9.0)\n",
            "Requirement already satisfied: libclang>=13.0.0 in /usr/local/lib/python3.10/dist-packages (from tensorflow) (18.1.1)\n",
            "Requirement already satisfied: ml-dtypes~=0.2.0 in /usr/local/lib/python3.10/dist-packages (from tensorflow) (0.2.0)\n",
            "Requirement already satisfied: opt-einsum>=2.3.2 in /usr/local/lib/python3.10/dist-packages (from tensorflow) (3.3.0)\n",
            "Requirement already satisfied: protobuf!=4.21.0,!=4.21.1,!=4.21.2,!=4.21.3,!=4.21.4,!=4.21.5,<5.0.0dev,>=3.20.3 in /usr/local/lib/python3.10/dist-packages (from tensorflow) (3.20.3)\n",
            "Requirement already satisfied: setuptools in /usr/local/lib/python3.10/dist-packages (from tensorflow) (67.7.2)\n",
            "Requirement already satisfied: six>=1.12.0 in /usr/local/lib/python3.10/dist-packages (from tensorflow) (1.16.0)\n",
            "Requirement already satisfied: termcolor>=1.1.0 in /usr/local/lib/python3.10/dist-packages (from tensorflow) (2.4.0)\n",
            "Requirement already satisfied: typing-extensions>=3.6.6 in /usr/local/lib/python3.10/dist-packages (from tensorflow) (4.12.2)\n",
            "Requirement already satisfied: wrapt<1.15,>=1.11.0 in /usr/local/lib/python3.10/dist-packages (from tensorflow) (1.14.1)\n",
            "Requirement already satisfied: tensorflow-io-gcs-filesystem>=0.23.1 in /usr/local/lib/python3.10/dist-packages (from tensorflow) (0.37.0)\n",
            "Requirement already satisfied: grpcio<2.0,>=1.24.3 in /usr/local/lib/python3.10/dist-packages (from tensorflow) (1.64.1)\n",
            "Requirement already satisfied: tensorboard<2.16,>=2.15 in /usr/local/lib/python3.10/dist-packages (from tensorflow) (2.15.2)\n",
            "Requirement already satisfied: tensorflow-estimator<2.16,>=2.15.0 in /usr/local/lib/python3.10/dist-packages (from tensorflow) (2.15.0)\n",
            "Requirement already satisfied: keras<2.16,>=2.15.0 in /usr/local/lib/python3.10/dist-packages (from tensorflow) (2.15.0)\n",
            "Requirement already satisfied: wheel<1.0,>=0.23.0 in /usr/local/lib/python3.10/dist-packages (from astunparse>=1.6.0->tensorflow) (0.43.0)\n",
            "Requirement already satisfied: platformdirs>=2.5.0 in /usr/local/lib/python3.10/dist-packages (from pooch>=1.5->mne) (4.2.2)\n",
            "Requirement already satisfied: requests>=2.19.0 in /usr/local/lib/python3.10/dist-packages (from pooch>=1.5->mne) (2.31.0)\n",
            "Requirement already satisfied: google-auth<3,>=1.6.3 in /usr/local/lib/python3.10/dist-packages (from tensorboard<2.16,>=2.15->tensorflow) (2.27.0)\n",
            "Requirement already satisfied: google-auth-oauthlib<2,>=0.5 in /usr/local/lib/python3.10/dist-packages (from tensorboard<2.16,>=2.15->tensorflow) (1.2.0)\n",
            "Requirement already satisfied: markdown>=2.6.8 in /usr/local/lib/python3.10/dist-packages (from tensorboard<2.16,>=2.15->tensorflow) (3.6)\n",
            "Requirement already satisfied: tensorboard-data-server<0.8.0,>=0.7.0 in /usr/local/lib/python3.10/dist-packages (from tensorboard<2.16,>=2.15->tensorflow) (0.7.2)\n",
            "Requirement already satisfied: werkzeug>=1.0.1 in /usr/local/lib/python3.10/dist-packages (from tensorboard<2.16,>=2.15->tensorflow) (3.0.3)\n",
            "Requirement already satisfied: MarkupSafe>=2.0 in /usr/local/lib/python3.10/dist-packages (from jinja2->mne) (2.1.5)\n",
            "Requirement already satisfied: cachetools<6.0,>=2.0.0 in /usr/local/lib/python3.10/dist-packages (from google-auth<3,>=1.6.3->tensorboard<2.16,>=2.15->tensorflow) (5.3.3)\n",
            "Requirement already satisfied: pyasn1-modules>=0.2.1 in /usr/local/lib/python3.10/dist-packages (from google-auth<3,>=1.6.3->tensorboard<2.16,>=2.15->tensorflow) (0.4.0)\n",
            "Requirement already satisfied: rsa<5,>=3.1.4 in /usr/local/lib/python3.10/dist-packages (from google-auth<3,>=1.6.3->tensorboard<2.16,>=2.15->tensorflow) (4.9)\n",
            "Requirement already satisfied: requests-oauthlib>=0.7.0 in /usr/local/lib/python3.10/dist-packages (from google-auth-oauthlib<2,>=0.5->tensorboard<2.16,>=2.15->tensorflow) (1.3.1)\n",
            "Requirement already satisfied: charset-normalizer<4,>=2 in /usr/local/lib/python3.10/dist-packages (from requests>=2.19.0->pooch>=1.5->mne) (3.3.2)\n",
            "Requirement already satisfied: idna<4,>=2.5 in /usr/local/lib/python3.10/dist-packages (from requests>=2.19.0->pooch>=1.5->mne) (3.7)\n",
            "Requirement already satisfied: urllib3<3,>=1.21.1 in /usr/local/lib/python3.10/dist-packages (from requests>=2.19.0->pooch>=1.5->mne) (2.0.7)\n",
            "Requirement already satisfied: certifi>=2017.4.17 in /usr/local/lib/python3.10/dist-packages (from requests>=2.19.0->pooch>=1.5->mne) (2024.6.2)\n",
            "Requirement already satisfied: pyasn1<0.7.0,>=0.4.6 in /usr/local/lib/python3.10/dist-packages (from pyasn1-modules>=0.2.1->google-auth<3,>=1.6.3->tensorboard<2.16,>=2.15->tensorflow) (0.6.0)\n",
            "Requirement already satisfied: oauthlib>=3.0.0 in /usr/local/lib/python3.10/dist-packages (from requests-oauthlib>=0.7.0->google-auth-oauthlib<2,>=0.5->tensorboard<2.16,>=2.15->tensorflow) (3.2.2)\n",
            "Installing collected packages: pyedflib\n",
            "Successfully installed pyedflib-0.1.37\n"
          ]
        }
      ]
    },
    {
      "cell_type": "markdown",
      "source": [
        "##Step 1: Loading the EEG data"
      ],
      "metadata": {
        "id": "x2evqJsSoMYo"
      }
    },
    {
      "cell_type": "markdown",
      "source": [
        "### Importing the required modules"
      ],
      "metadata": {
        "id": "jIMKW8eloak7"
      }
    },
    {
      "cell_type": "code",
      "source": [
        "import pyedflib\n",
        "import numpy as np\n",
        "import mne\n",
        "import mne.io\n",
        "import os\n",
        "import pandas as pd\n",
        "import matplotlib.pyplot as plt\n",
        "from scipy.signal import welch"
      ],
      "metadata": {
        "id": "gsFQ-xSOoTuc"
      },
      "execution_count": 5,
      "outputs": []
    },
    {
      "cell_type": "markdown",
      "source": [
        "### Initializing the path to the data directory"
      ],
      "metadata": {
        "id": "YKI9fUuaourv"
      }
    },
    {
      "cell_type": "code",
      "source": [
        "data_dir = '/content'"
      ],
      "metadata": {
        "id": "g6-AZm7Jo13F"
      },
      "execution_count": 6,
      "outputs": []
    },
    {
      "cell_type": "markdown",
      "source": [
        "### Reading the Subject Information"
      ],
      "metadata": {
        "id": "1vxAv50Ro52I"
      }
    },
    {
      "cell_type": "code",
      "source": [
        "subject_info_path = os.path.join(data_dir, 'subject-info.csv')\n",
        "subject_info = pd.read_csv(subject_info_path)"
      ],
      "metadata": {
        "id": "vckMLgUDo-qO"
      },
      "execution_count": 7,
      "outputs": []
    },
    {
      "cell_type": "markdown",
      "source": [
        "### Separating Subjects into groups based on 'Count quality'  "
      ],
      "metadata": {
        "id": "Cy-OKJNnpCl0"
      }
    },
    {
      "cell_type": "code",
      "source": [
        "group_G = subject_info[subject_info['Count quality'] == 1]\n",
        "group_B = subject_info[subject_info['Count quality'] == 0]"
      ],
      "metadata": {
        "id": "G04O2z_JpKy_"
      },
      "execution_count": 8,
      "outputs": []
    },
    {
      "cell_type": "markdown",
      "source": [
        "### Generating the list of EDF files"
      ],
      "metadata": {
        "id": "to53nNoLpRrk"
      }
    },
    {
      "cell_type": "code",
      "source": [
        "edf_files = [f for f in os.listdir(data_dir) if f.endswith('.edf')]"
      ],
      "metadata": {
        "id": "K6v80nNfpWT7"
      },
      "execution_count": 10,
      "outputs": []
    },
    {
      "cell_type": "markdown",
      "source": [
        "### Empty Lists to hold raw data"
      ],
      "metadata": {
        "id": "RWJRwhp6pdoj"
      }
    },
    {
      "cell_type": "code",
      "source": [
        "raw_rest_list = []\n",
        "raw_task_list = []"
      ],
      "metadata": {
        "id": "ldemEtDGpjXg"
      },
      "execution_count": 11,
      "outputs": []
    },
    {
      "cell_type": "markdown",
      "source": [
        "### Function to load EDF files using pyedflib"
      ],
      "metadata": {
        "id": "1QEZtfXnpmf0"
      }
    },
    {
      "cell_type": "code",
      "source": [
        "def load_edf(file_path):\n",
        "    with pyedflib.EdfReader(file_path) as f:\n",
        "        n = f.signals_in_file\n",
        "        signal_labels = f.getSignalLabels()\n",
        "        sigbufs = np.zeros((n, f.getNSamples()[0]))\n",
        "        for i in np.arange(n):\n",
        "            sigbufs[i, :] = f.readSignal(i)\n",
        "    return sigbufs, signal_labels, f.getSampleFrequency(0)"
      ],
      "metadata": {
        "id": "EuupDfyhprXP"
      },
      "execution_count": 12,
      "outputs": []
    },
    {
      "cell_type": "markdown",
      "source": [
        "### Loading the EDF files"
      ],
      "metadata": {
        "id": "vBGQkASWpu-G"
      }
    },
    {
      "cell_type": "code",
      "source": [
        "for subject in group_G['Subject'].unique():\n",
        "    rest_file = os.path.join(data_dir, f'{subject}_1.edf')\n",
        "    task_file = os.path.join(data_dir, f'{subject}_2.edf')\n",
        "    if os.path.exists(rest_file) and os.path.exists(task_file):\n",
        "        try:\n",
        "            rest_data, rest_labels, rest_sfreq = load_edf(rest_file)\n",
        "            task_data, task_labels, task_sfreq = load_edf(task_file)\n",
        "\n",
        "            # Create MNE Raw objects\n",
        "            rest_info = mne.create_info(ch_names=rest_labels, sfreq=rest_sfreq, ch_types='eeg')\n",
        "            task_info = mne.create_info(ch_names=task_labels, sfreq=task_sfreq, ch_types='eeg')\n",
        "            raw_rest = mne.io.RawArray(rest_data, rest_info)\n",
        "            raw_task = mne.io.RawArray(task_data, task_info)\n",
        "\n",
        "            raw_rest_list.append(raw_rest)\n",
        "            raw_task_list.append(raw_task)\n",
        "        except Exception as e:\n",
        "            print(f\"Error loading files for subject {subject}: {e}\")\n"
      ],
      "metadata": {
        "colab": {
          "base_uri": "https://localhost:8080/"
        },
        "id": "YWHQMGDGpzHr",
        "outputId": "f42fa3df-2790-46f0-ee45-1c9af7babafa"
      },
      "execution_count": 13,
      "outputs": [
        {
          "output_type": "stream",
          "name": "stdout",
          "text": [
            "Creating RawArray with float64 data, n_channels=21, n_times=91000\n",
            "    Range : 0 ... 90999 =      0.000 ...   181.998 secs\n",
            "Ready.\n",
            "Creating RawArray with float64 data, n_channels=21, n_times=31000\n",
            "    Range : 0 ... 30999 =      0.000 ...    61.998 secs\n",
            "Ready.\n",
            "Creating RawArray with float64 data, n_channels=21, n_times=91000\n",
            "    Range : 0 ... 90999 =      0.000 ...   181.998 secs\n",
            "Ready.\n",
            "Creating RawArray with float64 data, n_channels=21, n_times=31000\n",
            "    Range : 0 ... 30999 =      0.000 ...    61.998 secs\n",
            "Ready.\n",
            "Creating RawArray with float64 data, n_channels=21, n_times=91000\n",
            "    Range : 0 ... 90999 =      0.000 ...   181.998 secs\n",
            "Ready.\n",
            "Creating RawArray with float64 data, n_channels=21, n_times=31000\n",
            "    Range : 0 ... 30999 =      0.000 ...    61.998 secs\n",
            "Ready.\n",
            "Creating RawArray with float64 data, n_channels=21, n_times=91000\n",
            "    Range : 0 ... 90999 =      0.000 ...   181.998 secs\n",
            "Ready.\n",
            "Creating RawArray with float64 data, n_channels=21, n_times=31000\n",
            "    Range : 0 ... 30999 =      0.000 ...    61.998 secs\n",
            "Ready.\n",
            "Creating RawArray with float64 data, n_channels=21, n_times=91000\n",
            "    Range : 0 ... 90999 =      0.000 ...   181.998 secs\n",
            "Ready.\n",
            "Creating RawArray with float64 data, n_channels=21, n_times=31000\n",
            "    Range : 0 ... 30999 =      0.000 ...    61.998 secs\n",
            "Ready.\n",
            "Creating RawArray with float64 data, n_channels=21, n_times=91000\n",
            "    Range : 0 ... 90999 =      0.000 ...   181.998 secs\n",
            "Ready.\n",
            "Creating RawArray with float64 data, n_channels=21, n_times=31000\n",
            "    Range : 0 ... 30999 =      0.000 ...    61.998 secs\n",
            "Ready.\n",
            "Creating RawArray with float64 data, n_channels=21, n_times=91000\n",
            "    Range : 0 ... 90999 =      0.000 ...   181.998 secs\n",
            "Ready.\n",
            "Creating RawArray with float64 data, n_channels=21, n_times=31000\n",
            "    Range : 0 ... 30999 =      0.000 ...    61.998 secs\n",
            "Ready.\n",
            "Creating RawArray with float64 data, n_channels=21, n_times=91000\n",
            "    Range : 0 ... 90999 =      0.000 ...   181.998 secs\n",
            "Ready.\n",
            "Creating RawArray with float64 data, n_channels=21, n_times=31000\n",
            "    Range : 0 ... 30999 =      0.000 ...    61.998 secs\n",
            "Ready.\n",
            "Creating RawArray with float64 data, n_channels=21, n_times=91000\n",
            "    Range : 0 ... 90999 =      0.000 ...   181.998 secs\n",
            "Ready.\n",
            "Creating RawArray with float64 data, n_channels=21, n_times=31000\n",
            "    Range : 0 ... 30999 =      0.000 ...    61.998 secs\n",
            "Ready.\n",
            "Creating RawArray with float64 data, n_channels=21, n_times=91000\n",
            "    Range : 0 ... 90999 =      0.000 ...   181.998 secs\n",
            "Ready.\n",
            "Creating RawArray with float64 data, n_channels=21, n_times=31000\n",
            "    Range : 0 ... 30999 =      0.000 ...    61.998 secs\n",
            "Ready.\n",
            "Creating RawArray with float64 data, n_channels=21, n_times=91000\n",
            "    Range : 0 ... 90999 =      0.000 ...   181.998 secs\n",
            "Ready.\n",
            "Creating RawArray with float64 data, n_channels=21, n_times=31000\n",
            "    Range : 0 ... 30999 =      0.000 ...    61.998 secs\n",
            "Ready.\n",
            "Creating RawArray with float64 data, n_channels=21, n_times=91000\n",
            "    Range : 0 ... 90999 =      0.000 ...   181.998 secs\n",
            "Ready.\n",
            "Creating RawArray with float64 data, n_channels=21, n_times=31000\n",
            "    Range : 0 ... 30999 =      0.000 ...    61.998 secs\n",
            "Ready.\n",
            "Creating RawArray with float64 data, n_channels=21, n_times=91000\n",
            "    Range : 0 ... 90999 =      0.000 ...   181.998 secs\n",
            "Ready.\n",
            "Creating RawArray with float64 data, n_channels=21, n_times=31000\n",
            "    Range : 0 ... 30999 =      0.000 ...    61.998 secs\n",
            "Ready.\n",
            "Creating RawArray with float64 data, n_channels=21, n_times=91000\n",
            "    Range : 0 ... 90999 =      0.000 ...   181.998 secs\n",
            "Ready.\n",
            "Creating RawArray with float64 data, n_channels=21, n_times=31000\n",
            "    Range : 0 ... 30999 =      0.000 ...    61.998 secs\n",
            "Ready.\n",
            "Creating RawArray with float64 data, n_channels=21, n_times=91000\n",
            "    Range : 0 ... 90999 =      0.000 ...   181.998 secs\n",
            "Ready.\n",
            "Creating RawArray with float64 data, n_channels=21, n_times=31000\n",
            "    Range : 0 ... 30999 =      0.000 ...    61.998 secs\n",
            "Ready.\n",
            "Creating RawArray with float64 data, n_channels=21, n_times=91000\n",
            "    Range : 0 ... 90999 =      0.000 ...   181.998 secs\n",
            "Ready.\n",
            "Creating RawArray with float64 data, n_channels=21, n_times=31000\n",
            "    Range : 0 ... 30999 =      0.000 ...    61.998 secs\n",
            "Ready.\n",
            "Creating RawArray with float64 data, n_channels=21, n_times=91000\n",
            "    Range : 0 ... 90999 =      0.000 ...   181.998 secs\n",
            "Ready.\n",
            "Creating RawArray with float64 data, n_channels=21, n_times=31000\n",
            "    Range : 0 ... 30999 =      0.000 ...    61.998 secs\n",
            "Ready.\n",
            "Creating RawArray with float64 data, n_channels=21, n_times=91000\n",
            "    Range : 0 ... 90999 =      0.000 ...   181.998 secs\n",
            "Ready.\n",
            "Creating RawArray with float64 data, n_channels=21, n_times=31000\n",
            "    Range : 0 ... 30999 =      0.000 ...    61.998 secs\n",
            "Ready.\n",
            "Creating RawArray with float64 data, n_channels=21, n_times=91000\n",
            "    Range : 0 ... 90999 =      0.000 ...   181.998 secs\n",
            "Ready.\n",
            "Creating RawArray with float64 data, n_channels=21, n_times=31000\n",
            "    Range : 0 ... 30999 =      0.000 ...    61.998 secs\n",
            "Ready.\n",
            "Creating RawArray with float64 data, n_channels=21, n_times=91000\n",
            "    Range : 0 ... 90999 =      0.000 ...   181.998 secs\n",
            "Ready.\n",
            "Creating RawArray with float64 data, n_channels=21, n_times=31000\n",
            "    Range : 0 ... 30999 =      0.000 ...    61.998 secs\n",
            "Ready.\n",
            "Creating RawArray with float64 data, n_channels=21, n_times=91000\n",
            "    Range : 0 ... 90999 =      0.000 ...   181.998 secs\n",
            "Ready.\n",
            "Creating RawArray with float64 data, n_channels=21, n_times=31000\n",
            "    Range : 0 ... 30999 =      0.000 ...    61.998 secs\n",
            "Ready.\n",
            "Creating RawArray with float64 data, n_channels=21, n_times=40000\n",
            "    Range : 0 ... 39999 =      0.000 ...    79.998 secs\n",
            "Ready.\n",
            "Creating RawArray with float64 data, n_channels=21, n_times=31000\n",
            "    Range : 0 ... 30999 =      0.000 ...    61.998 secs\n",
            "Ready.\n",
            "Creating RawArray with float64 data, n_channels=21, n_times=91000\n",
            "    Range : 0 ... 90999 =      0.000 ...   181.998 secs\n",
            "Ready.\n",
            "Creating RawArray with float64 data, n_channels=21, n_times=31000\n",
            "    Range : 0 ... 30999 =      0.000 ...    61.998 secs\n",
            "Ready.\n",
            "Creating RawArray with float64 data, n_channels=21, n_times=91000\n",
            "    Range : 0 ... 90999 =      0.000 ...   181.998 secs\n",
            "Ready.\n",
            "Creating RawArray with float64 data, n_channels=21, n_times=31000\n",
            "    Range : 0 ... 30999 =      0.000 ...    61.998 secs\n",
            "Ready.\n",
            "Creating RawArray with float64 data, n_channels=21, n_times=91000\n",
            "    Range : 0 ... 90999 =      0.000 ...   181.998 secs\n",
            "Ready.\n",
            "Creating RawArray with float64 data, n_channels=21, n_times=31000\n",
            "    Range : 0 ... 30999 =      0.000 ...    61.998 secs\n",
            "Ready.\n",
            "Creating RawArray with float64 data, n_channels=21, n_times=91000\n",
            "    Range : 0 ... 90999 =      0.000 ...   181.998 secs\n",
            "Ready.\n",
            "Creating RawArray with float64 data, n_channels=21, n_times=31000\n",
            "    Range : 0 ... 30999 =      0.000 ...    61.998 secs\n",
            "Ready.\n"
          ]
        }
      ]
    },
    {
      "cell_type": "markdown",
      "source": [
        "### Concatenating all rest and task data"
      ],
      "metadata": {
        "id": "tocqY5scqBhN"
      }
    },
    {
      "cell_type": "code",
      "source": [
        "raw_rest_combined = mne.concatenate_raws(raw_rest_list)\n",
        "raw_task_combined = mne.concatenate_raws(raw_task_list)"
      ],
      "metadata": {
        "id": "4L9uAlqrqGTB"
      },
      "execution_count": 14,
      "outputs": []
    },
    {
      "cell_type": "markdown",
      "source": [
        "### Filtering"
      ],
      "metadata": {
        "id": "3kaD13ZwqORq"
      }
    },
    {
      "cell_type": "code",
      "source": [
        "raw_rest_combined.filter(l_freq=1., h_freq=30.)\n",
        "raw_task_combined.filter(l_freq=1., h_freq=30.)\n",
        "raw_rest_combined.notch_filter(freqs=50)\n",
        "raw_task_combined.notch_filter(freqs=50)"
      ],
      "metadata": {
        "colab": {
          "base_uri": "https://localhost:8080/",
          "height": 1000
        },
        "id": "1Lhn3wMfqSEw",
        "outputId": "3a823939-2a18-4fa3-d6df-9a9c07b68912"
      },
      "execution_count": 15,
      "outputs": [
        {
          "output_type": "stream",
          "name": "stdout",
          "text": [
            "Filtering raw data in 26 contiguous segments\n",
            "Setting up band-pass filter from 1 - 30 Hz\n",
            "\n",
            "FIR filter parameters\n",
            "---------------------\n",
            "Designing a one-pass, zero-phase, non-causal bandpass filter:\n",
            "- Windowed time-domain design (firwin) method\n",
            "- Hamming window with 0.0194 passband ripple and 53 dB stopband attenuation\n",
            "- Lower passband edge: 1.00\n",
            "- Lower transition bandwidth: 1.00 Hz (-6 dB cutoff frequency: 0.50 Hz)\n",
            "- Upper passband edge: 30.00 Hz\n",
            "- Upper transition bandwidth: 7.50 Hz (-6 dB cutoff frequency: 33.75 Hz)\n",
            "- Filter length: 1651 samples (3.302 s)\n",
            "\n"
          ]
        },
        {
          "output_type": "stream",
          "name": "stderr",
          "text": [
            "[Parallel(n_jobs=1)]: Done  17 tasks      | elapsed:    0.2s\n"
          ]
        },
        {
          "output_type": "stream",
          "name": "stdout",
          "text": [
            "Filtering raw data in 26 contiguous segments\n",
            "Setting up band-pass filter from 1 - 30 Hz\n",
            "\n",
            "FIR filter parameters\n",
            "---------------------\n",
            "Designing a one-pass, zero-phase, non-causal bandpass filter:\n",
            "- Windowed time-domain design (firwin) method\n",
            "- Hamming window with 0.0194 passband ripple and 53 dB stopband attenuation\n",
            "- Lower passband edge: 1.00\n",
            "- Lower transition bandwidth: 1.00 Hz (-6 dB cutoff frequency: 0.50 Hz)\n",
            "- Upper passband edge: 30.00 Hz\n",
            "- Upper transition bandwidth: 7.50 Hz (-6 dB cutoff frequency: 33.75 Hz)\n",
            "- Filter length: 1651 samples (3.302 s)\n",
            "\n"
          ]
        },
        {
          "output_type": "stream",
          "name": "stderr",
          "text": [
            "[Parallel(n_jobs=1)]: Done  17 tasks      | elapsed:    0.0s\n"
          ]
        },
        {
          "output_type": "stream",
          "name": "stdout",
          "text": [
            "Filtering raw data in 26 contiguous segments\n",
            "Setting up band-stop filter from 49 - 51 Hz\n",
            "\n",
            "FIR filter parameters\n",
            "---------------------\n",
            "Designing a one-pass, zero-phase, non-causal bandstop filter:\n",
            "- Windowed time-domain design (firwin) method\n",
            "- Hamming window with 0.0194 passband ripple and 53 dB stopband attenuation\n",
            "- Lower passband edge: 49.38\n",
            "- Lower transition bandwidth: 0.50 Hz (-6 dB cutoff frequency: 49.12 Hz)\n",
            "- Upper passband edge: 50.62 Hz\n",
            "- Upper transition bandwidth: 0.50 Hz (-6 dB cutoff frequency: 50.88 Hz)\n",
            "- Filter length: 3301 samples (6.602 s)\n",
            "\n",
            "Setting up band-stop filter from 49 - 51 Hz\n",
            "\n",
            "FIR filter parameters\n",
            "---------------------\n",
            "Designing a one-pass, zero-phase, non-causal bandstop filter:\n",
            "- Windowed time-domain design (firwin) method\n",
            "- Hamming window with 0.0194 passband ripple and 53 dB stopband attenuation\n",
            "- Lower passband edge: 49.38\n",
            "- Lower transition bandwidth: 0.50 Hz (-6 dB cutoff frequency: 49.12 Hz)\n",
            "- Upper passband edge: 50.62 Hz\n",
            "- Upper transition bandwidth: 0.50 Hz (-6 dB cutoff frequency: 50.88 Hz)\n",
            "- Filter length: 3301 samples (6.602 s)\n",
            "\n"
          ]
        },
        {
          "output_type": "stream",
          "name": "stderr",
          "text": [
            "[Parallel(n_jobs=1)]: Done  17 tasks      | elapsed:    0.2s\n"
          ]
        },
        {
          "output_type": "stream",
          "name": "stdout",
          "text": [
            "Setting up band-stop filter from 49 - 51 Hz\n",
            "\n",
            "FIR filter parameters\n",
            "---------------------\n",
            "Designing a one-pass, zero-phase, non-causal bandstop filter:\n",
            "- Windowed time-domain design (firwin) method\n",
            "- Hamming window with 0.0194 passband ripple and 53 dB stopband attenuation\n",
            "- Lower passband edge: 49.38\n",
            "- Lower transition bandwidth: 0.50 Hz (-6 dB cutoff frequency: 49.12 Hz)\n",
            "- Upper passband edge: 50.62 Hz\n",
            "- Upper transition bandwidth: 0.50 Hz (-6 dB cutoff frequency: 50.88 Hz)\n",
            "- Filter length: 3301 samples (6.602 s)\n",
            "\n"
          ]
        },
        {
          "output_type": "stream",
          "name": "stderr",
          "text": [
            "[Parallel(n_jobs=1)]: Done  17 tasks      | elapsed:    0.1s\n"
          ]
        },
        {
          "output_type": "stream",
          "name": "stdout",
          "text": [
            "Setting up band-stop filter from 49 - 51 Hz\n",
            "\n",
            "FIR filter parameters\n",
            "---------------------\n",
            "Designing a one-pass, zero-phase, non-causal bandstop filter:\n",
            "- Windowed time-domain design (firwin) method\n",
            "- Hamming window with 0.0194 passband ripple and 53 dB stopband attenuation\n",
            "- Lower passband edge: 49.38\n",
            "- Lower transition bandwidth: 0.50 Hz (-6 dB cutoff frequency: 49.12 Hz)\n",
            "- Upper passband edge: 50.62 Hz\n",
            "- Upper transition bandwidth: 0.50 Hz (-6 dB cutoff frequency: 50.88 Hz)\n",
            "- Filter length: 3301 samples (6.602 s)\n",
            "\n"
          ]
        },
        {
          "output_type": "stream",
          "name": "stderr",
          "text": [
            "[Parallel(n_jobs=1)]: Done  17 tasks      | elapsed:    0.2s\n"
          ]
        },
        {
          "output_type": "stream",
          "name": "stdout",
          "text": [
            "Setting up band-stop filter from 49 - 51 Hz\n",
            "\n",
            "FIR filter parameters\n",
            "---------------------\n",
            "Designing a one-pass, zero-phase, non-causal bandstop filter:\n",
            "- Windowed time-domain design (firwin) method\n",
            "- Hamming window with 0.0194 passband ripple and 53 dB stopband attenuation\n",
            "- Lower passband edge: 49.38\n",
            "- Lower transition bandwidth: 0.50 Hz (-6 dB cutoff frequency: 49.12 Hz)\n",
            "- Upper passband edge: 50.62 Hz\n",
            "- Upper transition bandwidth: 0.50 Hz (-6 dB cutoff frequency: 50.88 Hz)\n",
            "- Filter length: 3301 samples (6.602 s)\n",
            "\n"
          ]
        },
        {
          "output_type": "stream",
          "name": "stderr",
          "text": [
            "[Parallel(n_jobs=1)]: Done  17 tasks      | elapsed:    0.2s\n"
          ]
        },
        {
          "output_type": "stream",
          "name": "stdout",
          "text": [
            "Setting up band-stop filter from 49 - 51 Hz\n",
            "\n",
            "FIR filter parameters\n",
            "---------------------\n",
            "Designing a one-pass, zero-phase, non-causal bandstop filter:\n",
            "- Windowed time-domain design (firwin) method\n",
            "- Hamming window with 0.0194 passband ripple and 53 dB stopband attenuation\n",
            "- Lower passband edge: 49.38\n",
            "- Lower transition bandwidth: 0.50 Hz (-6 dB cutoff frequency: 49.12 Hz)\n",
            "- Upper passband edge: 50.62 Hz\n",
            "- Upper transition bandwidth: 0.50 Hz (-6 dB cutoff frequency: 50.88 Hz)\n",
            "- Filter length: 3301 samples (6.602 s)\n",
            "\n"
          ]
        },
        {
          "output_type": "stream",
          "name": "stderr",
          "text": [
            "[Parallel(n_jobs=1)]: Done  17 tasks      | elapsed:    0.2s\n"
          ]
        },
        {
          "output_type": "stream",
          "name": "stdout",
          "text": [
            "Setting up band-stop filter from 49 - 51 Hz\n",
            "\n",
            "FIR filter parameters\n",
            "---------------------\n",
            "Designing a one-pass, zero-phase, non-causal bandstop filter:\n",
            "- Windowed time-domain design (firwin) method\n",
            "- Hamming window with 0.0194 passband ripple and 53 dB stopband attenuation\n",
            "- Lower passband edge: 49.38\n",
            "- Lower transition bandwidth: 0.50 Hz (-6 dB cutoff frequency: 49.12 Hz)\n",
            "- Upper passband edge: 50.62 Hz\n",
            "- Upper transition bandwidth: 0.50 Hz (-6 dB cutoff frequency: 50.88 Hz)\n",
            "- Filter length: 3301 samples (6.602 s)\n",
            "\n"
          ]
        },
        {
          "output_type": "stream",
          "name": "stderr",
          "text": [
            "[Parallel(n_jobs=1)]: Done  17 tasks      | elapsed:    0.2s\n"
          ]
        },
        {
          "output_type": "stream",
          "name": "stdout",
          "text": [
            "Setting up band-stop filter from 49 - 51 Hz\n",
            "\n",
            "FIR filter parameters\n",
            "---------------------\n",
            "Designing a one-pass, zero-phase, non-causal bandstop filter:\n",
            "- Windowed time-domain design (firwin) method\n",
            "- Hamming window with 0.0194 passband ripple and 53 dB stopband attenuation\n",
            "- Lower passband edge: 49.38\n",
            "- Lower transition bandwidth: 0.50 Hz (-6 dB cutoff frequency: 49.12 Hz)\n",
            "- Upper passband edge: 50.62 Hz\n",
            "- Upper transition bandwidth: 0.50 Hz (-6 dB cutoff frequency: 50.88 Hz)\n",
            "- Filter length: 3301 samples (6.602 s)\n",
            "\n"
          ]
        },
        {
          "output_type": "stream",
          "name": "stderr",
          "text": [
            "[Parallel(n_jobs=1)]: Done  17 tasks      | elapsed:    0.2s\n"
          ]
        },
        {
          "output_type": "stream",
          "name": "stdout",
          "text": [
            "Setting up band-stop filter from 49 - 51 Hz\n",
            "\n",
            "FIR filter parameters\n",
            "---------------------\n",
            "Designing a one-pass, zero-phase, non-causal bandstop filter:\n",
            "- Windowed time-domain design (firwin) method\n",
            "- Hamming window with 0.0194 passband ripple and 53 dB stopband attenuation\n",
            "- Lower passband edge: 49.38\n",
            "- Lower transition bandwidth: 0.50 Hz (-6 dB cutoff frequency: 49.12 Hz)\n",
            "- Upper passband edge: 50.62 Hz\n",
            "- Upper transition bandwidth: 0.50 Hz (-6 dB cutoff frequency: 50.88 Hz)\n",
            "- Filter length: 3301 samples (6.602 s)\n",
            "\n"
          ]
        },
        {
          "output_type": "stream",
          "name": "stderr",
          "text": [
            "[Parallel(n_jobs=1)]: Done  17 tasks      | elapsed:    0.2s\n"
          ]
        },
        {
          "output_type": "stream",
          "name": "stdout",
          "text": [
            "Setting up band-stop filter from 49 - 51 Hz\n",
            "\n",
            "FIR filter parameters\n",
            "---------------------\n",
            "Designing a one-pass, zero-phase, non-causal bandstop filter:\n",
            "- Windowed time-domain design (firwin) method\n",
            "- Hamming window with 0.0194 passband ripple and 53 dB stopband attenuation\n",
            "- Lower passband edge: 49.38\n",
            "- Lower transition bandwidth: 0.50 Hz (-6 dB cutoff frequency: 49.12 Hz)\n",
            "- Upper passband edge: 50.62 Hz\n",
            "- Upper transition bandwidth: 0.50 Hz (-6 dB cutoff frequency: 50.88 Hz)\n",
            "- Filter length: 3301 samples (6.602 s)\n",
            "\n"
          ]
        },
        {
          "output_type": "stream",
          "name": "stderr",
          "text": [
            "[Parallel(n_jobs=1)]: Done  17 tasks      | elapsed:    0.2s\n"
          ]
        },
        {
          "output_type": "stream",
          "name": "stdout",
          "text": [
            "Setting up band-stop filter from 49 - 51 Hz\n",
            "\n",
            "FIR filter parameters\n",
            "---------------------\n",
            "Designing a one-pass, zero-phase, non-causal bandstop filter:\n",
            "- Windowed time-domain design (firwin) method\n",
            "- Hamming window with 0.0194 passband ripple and 53 dB stopband attenuation\n",
            "- Lower passband edge: 49.38\n",
            "- Lower transition bandwidth: 0.50 Hz (-6 dB cutoff frequency: 49.12 Hz)\n",
            "- Upper passband edge: 50.62 Hz\n",
            "- Upper transition bandwidth: 0.50 Hz (-6 dB cutoff frequency: 50.88 Hz)\n",
            "- Filter length: 3301 samples (6.602 s)\n",
            "\n"
          ]
        },
        {
          "output_type": "stream",
          "name": "stderr",
          "text": [
            "[Parallel(n_jobs=1)]: Done  17 tasks      | elapsed:    0.2s\n"
          ]
        },
        {
          "output_type": "stream",
          "name": "stdout",
          "text": [
            "Setting up band-stop filter from 49 - 51 Hz\n",
            "\n",
            "FIR filter parameters\n",
            "---------------------\n",
            "Designing a one-pass, zero-phase, non-causal bandstop filter:\n",
            "- Windowed time-domain design (firwin) method\n",
            "- Hamming window with 0.0194 passband ripple and 53 dB stopband attenuation\n",
            "- Lower passband edge: 49.38\n",
            "- Lower transition bandwidth: 0.50 Hz (-6 dB cutoff frequency: 49.12 Hz)\n",
            "- Upper passband edge: 50.62 Hz\n",
            "- Upper transition bandwidth: 0.50 Hz (-6 dB cutoff frequency: 50.88 Hz)\n",
            "- Filter length: 3301 samples (6.602 s)\n",
            "\n"
          ]
        },
        {
          "output_type": "stream",
          "name": "stderr",
          "text": [
            "[Parallel(n_jobs=1)]: Done  17 tasks      | elapsed:    0.2s\n"
          ]
        },
        {
          "output_type": "stream",
          "name": "stdout",
          "text": [
            "Setting up band-stop filter from 49 - 51 Hz\n",
            "\n",
            "FIR filter parameters\n",
            "---------------------\n",
            "Designing a one-pass, zero-phase, non-causal bandstop filter:\n",
            "- Windowed time-domain design (firwin) method\n",
            "- Hamming window with 0.0194 passband ripple and 53 dB stopband attenuation\n",
            "- Lower passband edge: 49.38\n",
            "- Lower transition bandwidth: 0.50 Hz (-6 dB cutoff frequency: 49.12 Hz)\n",
            "- Upper passband edge: 50.62 Hz\n",
            "- Upper transition bandwidth: 0.50 Hz (-6 dB cutoff frequency: 50.88 Hz)\n",
            "- Filter length: 3301 samples (6.602 s)\n",
            "\n"
          ]
        },
        {
          "output_type": "stream",
          "name": "stderr",
          "text": [
            "[Parallel(n_jobs=1)]: Done  17 tasks      | elapsed:    0.2s\n"
          ]
        },
        {
          "output_type": "stream",
          "name": "stdout",
          "text": [
            "Setting up band-stop filter from 49 - 51 Hz\n",
            "\n",
            "FIR filter parameters\n",
            "---------------------\n",
            "Designing a one-pass, zero-phase, non-causal bandstop filter:\n",
            "- Windowed time-domain design (firwin) method\n",
            "- Hamming window with 0.0194 passband ripple and 53 dB stopband attenuation\n",
            "- Lower passband edge: 49.38\n",
            "- Lower transition bandwidth: 0.50 Hz (-6 dB cutoff frequency: 49.12 Hz)\n",
            "- Upper passband edge: 50.62 Hz\n",
            "- Upper transition bandwidth: 0.50 Hz (-6 dB cutoff frequency: 50.88 Hz)\n",
            "- Filter length: 3301 samples (6.602 s)\n",
            "\n"
          ]
        },
        {
          "output_type": "stream",
          "name": "stderr",
          "text": [
            "[Parallel(n_jobs=1)]: Done  17 tasks      | elapsed:    0.1s\n"
          ]
        },
        {
          "output_type": "stream",
          "name": "stdout",
          "text": [
            "Setting up band-stop filter from 49 - 51 Hz\n",
            "\n",
            "FIR filter parameters\n",
            "---------------------\n",
            "Designing a one-pass, zero-phase, non-causal bandstop filter:\n",
            "- Windowed time-domain design (firwin) method\n",
            "- Hamming window with 0.0194 passband ripple and 53 dB stopband attenuation\n",
            "- Lower passband edge: 49.38\n",
            "- Lower transition bandwidth: 0.50 Hz (-6 dB cutoff frequency: 49.12 Hz)\n",
            "- Upper passband edge: 50.62 Hz\n",
            "- Upper transition bandwidth: 0.50 Hz (-6 dB cutoff frequency: 50.88 Hz)\n",
            "- Filter length: 3301 samples (6.602 s)\n",
            "\n"
          ]
        },
        {
          "output_type": "stream",
          "name": "stderr",
          "text": [
            "[Parallel(n_jobs=1)]: Done  17 tasks      | elapsed:    0.1s\n"
          ]
        },
        {
          "output_type": "stream",
          "name": "stdout",
          "text": [
            "Setting up band-stop filter from 49 - 51 Hz\n",
            "\n",
            "FIR filter parameters\n",
            "---------------------\n",
            "Designing a one-pass, zero-phase, non-causal bandstop filter:\n",
            "- Windowed time-domain design (firwin) method\n",
            "- Hamming window with 0.0194 passband ripple and 53 dB stopband attenuation\n",
            "- Lower passband edge: 49.38\n",
            "- Lower transition bandwidth: 0.50 Hz (-6 dB cutoff frequency: 49.12 Hz)\n",
            "- Upper passband edge: 50.62 Hz\n",
            "- Upper transition bandwidth: 0.50 Hz (-6 dB cutoff frequency: 50.88 Hz)\n",
            "- Filter length: 3301 samples (6.602 s)\n",
            "\n"
          ]
        },
        {
          "output_type": "stream",
          "name": "stderr",
          "text": [
            "[Parallel(n_jobs=1)]: Done  17 tasks      | elapsed:    0.2s\n"
          ]
        },
        {
          "output_type": "stream",
          "name": "stdout",
          "text": [
            "Setting up band-stop filter from 49 - 51 Hz\n",
            "\n",
            "FIR filter parameters\n",
            "---------------------\n",
            "Designing a one-pass, zero-phase, non-causal bandstop filter:\n",
            "- Windowed time-domain design (firwin) method\n",
            "- Hamming window with 0.0194 passband ripple and 53 dB stopband attenuation\n",
            "- Lower passband edge: 49.38\n",
            "- Lower transition bandwidth: 0.50 Hz (-6 dB cutoff frequency: 49.12 Hz)\n",
            "- Upper passband edge: 50.62 Hz\n",
            "- Upper transition bandwidth: 0.50 Hz (-6 dB cutoff frequency: 50.88 Hz)\n",
            "- Filter length: 3301 samples (6.602 s)\n",
            "\n"
          ]
        },
        {
          "output_type": "stream",
          "name": "stderr",
          "text": [
            "[Parallel(n_jobs=1)]: Done  17 tasks      | elapsed:    0.3s\n"
          ]
        },
        {
          "output_type": "stream",
          "name": "stdout",
          "text": [
            "Setting up band-stop filter from 49 - 51 Hz\n",
            "\n",
            "FIR filter parameters\n",
            "---------------------\n",
            "Designing a one-pass, zero-phase, non-causal bandstop filter:\n",
            "- Windowed time-domain design (firwin) method\n",
            "- Hamming window with 0.0194 passband ripple and 53 dB stopband attenuation\n",
            "- Lower passband edge: 49.38\n",
            "- Lower transition bandwidth: 0.50 Hz (-6 dB cutoff frequency: 49.12 Hz)\n",
            "- Upper passband edge: 50.62 Hz\n",
            "- Upper transition bandwidth: 0.50 Hz (-6 dB cutoff frequency: 50.88 Hz)\n",
            "- Filter length: 3301 samples (6.602 s)\n",
            "\n"
          ]
        },
        {
          "output_type": "stream",
          "name": "stderr",
          "text": [
            "[Parallel(n_jobs=1)]: Done  17 tasks      | elapsed:    0.2s\n"
          ]
        },
        {
          "output_type": "stream",
          "name": "stdout",
          "text": [
            "Setting up band-stop filter from 49 - 51 Hz\n",
            "\n",
            "FIR filter parameters\n",
            "---------------------\n",
            "Designing a one-pass, zero-phase, non-causal bandstop filter:\n",
            "- Windowed time-domain design (firwin) method\n",
            "- Hamming window with 0.0194 passband ripple and 53 dB stopband attenuation\n",
            "- Lower passband edge: 49.38\n",
            "- Lower transition bandwidth: 0.50 Hz (-6 dB cutoff frequency: 49.12 Hz)\n",
            "- Upper passband edge: 50.62 Hz\n",
            "- Upper transition bandwidth: 0.50 Hz (-6 dB cutoff frequency: 50.88 Hz)\n",
            "- Filter length: 3301 samples (6.602 s)\n",
            "\n"
          ]
        },
        {
          "output_type": "stream",
          "name": "stderr",
          "text": [
            "[Parallel(n_jobs=1)]: Done  17 tasks      | elapsed:    0.1s\n"
          ]
        },
        {
          "output_type": "stream",
          "name": "stdout",
          "text": [
            "Setting up band-stop filter from 49 - 51 Hz\n",
            "\n",
            "FIR filter parameters\n",
            "---------------------\n",
            "Designing a one-pass, zero-phase, non-causal bandstop filter:\n",
            "- Windowed time-domain design (firwin) method\n",
            "- Hamming window with 0.0194 passband ripple and 53 dB stopband attenuation\n",
            "- Lower passband edge: 49.38\n",
            "- Lower transition bandwidth: 0.50 Hz (-6 dB cutoff frequency: 49.12 Hz)\n",
            "- Upper passband edge: 50.62 Hz\n",
            "- Upper transition bandwidth: 0.50 Hz (-6 dB cutoff frequency: 50.88 Hz)\n",
            "- Filter length: 3301 samples (6.602 s)\n",
            "\n"
          ]
        },
        {
          "output_type": "stream",
          "name": "stderr",
          "text": [
            "[Parallel(n_jobs=1)]: Done  17 tasks      | elapsed:    0.1s\n"
          ]
        },
        {
          "output_type": "stream",
          "name": "stdout",
          "text": [
            "Setting up band-stop filter from 49 - 51 Hz\n",
            "\n",
            "FIR filter parameters\n",
            "---------------------\n",
            "Designing a one-pass, zero-phase, non-causal bandstop filter:\n",
            "- Windowed time-domain design (firwin) method\n",
            "- Hamming window with 0.0194 passband ripple and 53 dB stopband attenuation\n",
            "- Lower passband edge: 49.38\n",
            "- Lower transition bandwidth: 0.50 Hz (-6 dB cutoff frequency: 49.12 Hz)\n",
            "- Upper passband edge: 50.62 Hz\n",
            "- Upper transition bandwidth: 0.50 Hz (-6 dB cutoff frequency: 50.88 Hz)\n",
            "- Filter length: 3301 samples (6.602 s)\n",
            "\n"
          ]
        },
        {
          "output_type": "stream",
          "name": "stderr",
          "text": [
            "[Parallel(n_jobs=1)]: Done  17 tasks      | elapsed:    0.1s\n"
          ]
        },
        {
          "output_type": "stream",
          "name": "stdout",
          "text": [
            "Setting up band-stop filter from 49 - 51 Hz\n",
            "\n",
            "FIR filter parameters\n",
            "---------------------\n",
            "Designing a one-pass, zero-phase, non-causal bandstop filter:\n",
            "- Windowed time-domain design (firwin) method\n",
            "- Hamming window with 0.0194 passband ripple and 53 dB stopband attenuation\n",
            "- Lower passband edge: 49.38\n",
            "- Lower transition bandwidth: 0.50 Hz (-6 dB cutoff frequency: 49.12 Hz)\n",
            "- Upper passband edge: 50.62 Hz\n",
            "- Upper transition bandwidth: 0.50 Hz (-6 dB cutoff frequency: 50.88 Hz)\n",
            "- Filter length: 3301 samples (6.602 s)\n",
            "\n",
            "Setting up band-stop filter from 49 - 51 Hz\n",
            "\n",
            "FIR filter parameters\n",
            "---------------------\n",
            "Designing a one-pass, zero-phase, non-causal bandstop filter:\n",
            "- Windowed time-domain design (firwin) method\n",
            "- Hamming window with 0.0194 passband ripple and 53 dB stopband attenuation\n",
            "- Lower passband edge: 49.38\n",
            "- Lower transition bandwidth: 0.50 Hz (-6 dB cutoff frequency: 49.12 Hz)\n",
            "- Upper passband edge: 50.62 Hz\n",
            "- Upper transition bandwidth: 0.50 Hz (-6 dB cutoff frequency: 50.88 Hz)\n"
          ]
        },
        {
          "output_type": "stream",
          "name": "stderr",
          "text": [
            "[Parallel(n_jobs=1)]: Done  17 tasks      | elapsed:    0.1s\n",
            "[Parallel(n_jobs=1)]: Done  17 tasks      | elapsed:    0.1s\n"
          ]
        },
        {
          "output_type": "stream",
          "name": "stdout",
          "text": [
            "- Filter length: 3301 samples (6.602 s)\n",
            "\n",
            "Setting up band-stop filter from 49 - 51 Hz\n",
            "\n",
            "FIR filter parameters\n",
            "---------------------\n",
            "Designing a one-pass, zero-phase, non-causal bandstop filter:\n",
            "- Windowed time-domain design (firwin) method\n",
            "- Hamming window with 0.0194 passband ripple and 53 dB stopband attenuation\n",
            "- Lower passband edge: 49.38\n",
            "- Lower transition bandwidth: 0.50 Hz (-6 dB cutoff frequency: 49.12 Hz)\n",
            "- Upper passband edge: 50.62 Hz\n",
            "- Upper transition bandwidth: 0.50 Hz (-6 dB cutoff frequency: 50.88 Hz)\n",
            "- Filter length: 3301 samples (6.602 s)\n",
            "\n"
          ]
        },
        {
          "output_type": "stream",
          "name": "stderr",
          "text": [
            "[Parallel(n_jobs=1)]: Done  17 tasks      | elapsed:    0.3s\n"
          ]
        },
        {
          "output_type": "stream",
          "name": "stdout",
          "text": [
            "Setting up band-stop filter from 49 - 51 Hz\n",
            "\n",
            "FIR filter parameters\n",
            "---------------------\n",
            "Designing a one-pass, zero-phase, non-causal bandstop filter:\n",
            "- Windowed time-domain design (firwin) method\n",
            "- Hamming window with 0.0194 passband ripple and 53 dB stopband attenuation\n",
            "- Lower passband edge: 49.38\n",
            "- Lower transition bandwidth: 0.50 Hz (-6 dB cutoff frequency: 49.12 Hz)\n",
            "- Upper passband edge: 50.62 Hz\n",
            "- Upper transition bandwidth: 0.50 Hz (-6 dB cutoff frequency: 50.88 Hz)\n",
            "- Filter length: 3301 samples (6.602 s)\n",
            "\n",
            "Setting up band-stop filter from 49 - 51 Hz\n",
            "\n",
            "FIR filter parameters\n",
            "---------------------\n",
            "Designing a one-pass, zero-phase, non-causal bandstop filter:\n",
            "- Windowed time-domain design (firwin) method\n",
            "- Hamming window with 0.0194 passband ripple and 53 dB stopband attenuation\n",
            "- Lower passband edge: 49.38\n",
            "- Lower transition bandwidth: 0.50 Hz (-6 dB cutoff frequency: 49.12 Hz)\n",
            "- Upper passband edge: 50.62 Hz\n",
            "- Upper transition bandwidth: 0.50 Hz (-6 dB cutoff frequency: 50.88 Hz)\n",
            "- Filter length: 3301 samples (6.602 s)\n",
            "\n"
          ]
        },
        {
          "output_type": "stream",
          "name": "stderr",
          "text": [
            "[Parallel(n_jobs=1)]: Done  17 tasks      | elapsed:    0.2s\n",
            "[Parallel(n_jobs=1)]: Done  17 tasks      | elapsed:    0.1s\n"
          ]
        },
        {
          "output_type": "stream",
          "name": "stdout",
          "text": [
            "Filtering raw data in 26 contiguous segments\n",
            "Setting up band-stop filter from 49 - 51 Hz\n",
            "\n",
            "FIR filter parameters\n",
            "---------------------\n",
            "Designing a one-pass, zero-phase, non-causal bandstop filter:\n",
            "- Windowed time-domain design (firwin) method\n",
            "- Hamming window with 0.0194 passband ripple and 53 dB stopband attenuation\n",
            "- Lower passband edge: 49.38\n",
            "- Lower transition bandwidth: 0.50 Hz (-6 dB cutoff frequency: 49.12 Hz)\n",
            "- Upper passband edge: 50.62 Hz\n",
            "- Upper transition bandwidth: 0.50 Hz (-6 dB cutoff frequency: 50.88 Hz)\n",
            "- Filter length: 3301 samples (6.602 s)\n",
            "\n",
            "Setting up band-stop filter from 49 - 51 Hz\n",
            "\n",
            "FIR filter parameters\n",
            "---------------------\n",
            "Designing a one-pass, zero-phase, non-causal bandstop filter:\n",
            "- Windowed time-domain design (firwin) method\n",
            "- Hamming window with 0.0194 passband ripple and 53 dB stopband attenuation\n",
            "- Lower passband edge: 49.38\n",
            "- Lower transition bandwidth: 0.50 Hz (-6 dB cutoff frequency: 49.12 Hz)\n",
            "- Upper passband edge: 50.62 Hz\n",
            "- Upper transition bandwidth: 0.50 Hz (-6 dB cutoff frequency: 50.88 Hz)\n",
            "- Filter length: 3301 samples (6.602 s)\n",
            "\n"
          ]
        },
        {
          "output_type": "stream",
          "name": "stderr",
          "text": [
            "[Parallel(n_jobs=1)]: Done  17 tasks      | elapsed:    0.1s\n",
            "[Parallel(n_jobs=1)]: Done  17 tasks      | elapsed:    0.0s\n"
          ]
        },
        {
          "output_type": "stream",
          "name": "stdout",
          "text": [
            "Setting up band-stop filter from 49 - 51 Hz\n",
            "\n",
            "FIR filter parameters\n",
            "---------------------\n",
            "Designing a one-pass, zero-phase, non-causal bandstop filter:\n",
            "- Windowed time-domain design (firwin) method\n",
            "- Hamming window with 0.0194 passband ripple and 53 dB stopband attenuation\n",
            "- Lower passband edge: 49.38\n",
            "- Lower transition bandwidth: 0.50 Hz (-6 dB cutoff frequency: 49.12 Hz)\n",
            "- Upper passband edge: 50.62 Hz\n",
            "- Upper transition bandwidth: 0.50 Hz (-6 dB cutoff frequency: 50.88 Hz)\n",
            "- Filter length: 3301 samples (6.602 s)\n",
            "\n",
            "Setting up band-stop filter from 49 - 51 Hz\n",
            "\n",
            "FIR filter parameters\n",
            "---------------------\n",
            "Designing a one-pass, zero-phase, non-causal bandstop filter:\n",
            "- Windowed time-domain design (firwin) method\n",
            "- Hamming window with 0.0194 passband ripple and 53 dB stopband attenuation\n",
            "- Lower passband edge: 49.38\n",
            "- Lower transition bandwidth: 0.50 Hz (-6 dB cutoff frequency: 49.12 Hz)\n",
            "- Upper passband edge: 50.62 Hz\n",
            "- Upper transition bandwidth: 0.50 Hz (-6 dB cutoff frequency: 50.88 Hz)\n",
            "- Filter length: 3301 samples (6.602 s)\n",
            "\n"
          ]
        },
        {
          "output_type": "stream",
          "name": "stderr",
          "text": [
            "[Parallel(n_jobs=1)]: Done  17 tasks      | elapsed:    0.0s\n",
            "[Parallel(n_jobs=1)]: Done  17 tasks      | elapsed:    0.0s\n"
          ]
        },
        {
          "output_type": "stream",
          "name": "stdout",
          "text": [
            "Setting up band-stop filter from 49 - 51 Hz\n",
            "\n",
            "FIR filter parameters\n",
            "---------------------\n",
            "Designing a one-pass, zero-phase, non-causal bandstop filter:\n",
            "- Windowed time-domain design (firwin) method\n",
            "- Hamming window with 0.0194 passband ripple and 53 dB stopband attenuation\n",
            "- Lower passband edge: 49.38\n",
            "- Lower transition bandwidth: 0.50 Hz (-6 dB cutoff frequency: 49.12 Hz)\n",
            "- Upper passband edge: 50.62 Hz\n",
            "- Upper transition bandwidth: 0.50 Hz (-6 dB cutoff frequency: 50.88 Hz)\n",
            "- Filter length: 3301 samples (6.602 s)\n",
            "\n",
            "Setting up band-stop filter from 49 - 51 Hz\n",
            "\n",
            "FIR filter parameters\n",
            "---------------------\n",
            "Designing a one-pass, zero-phase, non-causal bandstop filter:\n",
            "- Windowed time-domain design (firwin) method\n",
            "- Hamming window with 0.0194 passband ripple and 53 dB stopband attenuation\n",
            "- Lower passband edge: 49.38\n",
            "- Lower transition bandwidth: 0.50 Hz (-6 dB cutoff frequency: 49.12 Hz)\n",
            "- Upper passband edge: 50.62 Hz\n",
            "- Upper transition bandwidth: 0.50 Hz (-6 dB cutoff frequency: 50.88 Hz)\n",
            "- Filter length: 3301 samples (6.602 s)\n",
            "\n"
          ]
        },
        {
          "output_type": "stream",
          "name": "stderr",
          "text": [
            "[Parallel(n_jobs=1)]: Done  17 tasks      | elapsed:    0.0s\n",
            "[Parallel(n_jobs=1)]: Done  17 tasks      | elapsed:    0.0s\n"
          ]
        },
        {
          "output_type": "stream",
          "name": "stdout",
          "text": [
            "Setting up band-stop filter from 49 - 51 Hz\n",
            "\n",
            "FIR filter parameters\n",
            "---------------------\n",
            "Designing a one-pass, zero-phase, non-causal bandstop filter:\n",
            "- Windowed time-domain design (firwin) method\n",
            "- Hamming window with 0.0194 passband ripple and 53 dB stopband attenuation\n",
            "- Lower passband edge: 49.38\n",
            "- Lower transition bandwidth: 0.50 Hz (-6 dB cutoff frequency: 49.12 Hz)\n",
            "- Upper passband edge: 50.62 Hz\n",
            "- Upper transition bandwidth: 0.50 Hz (-6 dB cutoff frequency: 50.88 Hz)\n",
            "- Filter length: 3301 samples (6.602 s)\n",
            "\n",
            "Setting up band-stop filter from 49 - 51 Hz\n",
            "\n",
            "FIR filter parameters\n",
            "---------------------\n",
            "Designing a one-pass, zero-phase, non-causal bandstop filter:\n",
            "- Windowed time-domain design (firwin) method\n",
            "- Hamming window with 0.0194 passband ripple and 53 dB stopband attenuation\n",
            "- Lower passband edge: 49.38\n",
            "- Lower transition bandwidth: 0.50 Hz (-6 dB cutoff frequency: 49.12 Hz)\n",
            "- Upper passband edge: 50.62 Hz\n",
            "- Upper transition bandwidth: 0.50 Hz (-6 dB cutoff frequency: 50.88 Hz)\n",
            "- Filter length: 3301 samples (6.602 s)\n",
            "\n"
          ]
        },
        {
          "output_type": "stream",
          "name": "stderr",
          "text": [
            "[Parallel(n_jobs=1)]: Done  17 tasks      | elapsed:    0.0s\n",
            "[Parallel(n_jobs=1)]: Done  17 tasks      | elapsed:    0.0s\n"
          ]
        },
        {
          "output_type": "stream",
          "name": "stdout",
          "text": [
            "Setting up band-stop filter from 49 - 51 Hz\n",
            "\n",
            "FIR filter parameters\n",
            "---------------------\n",
            "Designing a one-pass, zero-phase, non-causal bandstop filter:\n",
            "- Windowed time-domain design (firwin) method\n",
            "- Hamming window with 0.0194 passband ripple and 53 dB stopband attenuation\n",
            "- Lower passband edge: 49.38\n",
            "- Lower transition bandwidth: 0.50 Hz (-6 dB cutoff frequency: 49.12 Hz)\n",
            "- Upper passband edge: 50.62 Hz\n",
            "- Upper transition bandwidth: 0.50 Hz (-6 dB cutoff frequency: 50.88 Hz)\n",
            "- Filter length: 3301 samples (6.602 s)\n",
            "\n",
            "Setting up band-stop filter from 49 - 51 Hz\n",
            "\n",
            "FIR filter parameters\n",
            "---------------------\n",
            "Designing a one-pass, zero-phase, non-causal bandstop filter:\n",
            "- Windowed time-domain design (firwin) method\n",
            "- Hamming window with 0.0194 passband ripple and 53 dB stopband attenuation\n",
            "- Lower passband edge: 49.38\n",
            "- Lower transition bandwidth: 0.50 Hz (-6 dB cutoff frequency: 49.12 Hz)\n",
            "- Upper passband edge: 50.62 Hz\n",
            "- Upper transition bandwidth: 0.50 Hz (-6 dB cutoff frequency: 50.88 Hz)\n",
            "- Filter length: 3301 samples (6.602 s)\n",
            "\n",
            "Setting up band-stop filter from 49 - 51 Hz\n",
            "\n",
            "FIR filter parameters\n",
            "---------------------\n",
            "Designing a one-pass, zero-phase, non-causal bandstop filter:\n",
            "- Windowed time-domain design (firwin) method\n"
          ]
        },
        {
          "output_type": "stream",
          "name": "stderr",
          "text": [
            "[Parallel(n_jobs=1)]: Done  17 tasks      | elapsed:    0.1s\n",
            "[Parallel(n_jobs=1)]: Done  17 tasks      | elapsed:    0.0s\n",
            "[Parallel(n_jobs=1)]: Done  17 tasks      | elapsed:    0.0s\n"
          ]
        },
        {
          "output_type": "stream",
          "name": "stdout",
          "text": [
            "- Hamming window with 0.0194 passband ripple and 53 dB stopband attenuation\n",
            "- Lower passband edge: 49.38\n",
            "- Lower transition bandwidth: 0.50 Hz (-6 dB cutoff frequency: 49.12 Hz)\n",
            "- Upper passband edge: 50.62 Hz\n",
            "- Upper transition bandwidth: 0.50 Hz (-6 dB cutoff frequency: 50.88 Hz)\n",
            "- Filter length: 3301 samples (6.602 s)\n",
            "\n",
            "Setting up band-stop filter from 49 - 51 Hz\n",
            "\n",
            "FIR filter parameters\n",
            "---------------------\n",
            "Designing a one-pass, zero-phase, non-causal bandstop filter:\n",
            "- Windowed time-domain design (firwin) method\n",
            "- Hamming window with 0.0194 passband ripple and 53 dB stopband attenuation\n",
            "- Lower passband edge: 49.38\n",
            "- Lower transition bandwidth: 0.50 Hz (-6 dB cutoff frequency: 49.12 Hz)\n",
            "- Upper passband edge: 50.62 Hz\n",
            "- Upper transition bandwidth: 0.50 Hz (-6 dB cutoff frequency: 50.88 Hz)\n",
            "- Filter length: 3301 samples (6.602 s)\n",
            "\n",
            "Setting up band-stop filter from 49 - 51 Hz\n",
            "\n",
            "FIR filter parameters\n",
            "---------------------\n",
            "Designing a one-pass, zero-phase, non-causal bandstop filter:\n",
            "- Windowed time-domain design (firwin) method\n",
            "- Hamming window with 0.0194 passband ripple and 53 dB stopband attenuation\n",
            "- Lower passband edge: 49.38\n",
            "- Lower transition bandwidth: 0.50 Hz (-6 dB cutoff frequency: 49.12 Hz)\n",
            "- Upper passband edge: 50.62 Hz\n",
            "- Upper transition bandwidth: 0.50 Hz (-6 dB cutoff frequency: 50.88 Hz)\n",
            "- Filter length: 3301 samples (6.602 s)\n",
            "\n"
          ]
        },
        {
          "output_type": "stream",
          "name": "stderr",
          "text": [
            "[Parallel(n_jobs=1)]: Done  17 tasks      | elapsed:    0.0s\n",
            "[Parallel(n_jobs=1)]: Done  17 tasks      | elapsed:    0.0s\n"
          ]
        },
        {
          "output_type": "stream",
          "name": "stdout",
          "text": [
            "Setting up band-stop filter from 49 - 51 Hz\n",
            "\n",
            "FIR filter parameters\n",
            "---------------------\n",
            "Designing a one-pass, zero-phase, non-causal bandstop filter:\n",
            "- Windowed time-domain design (firwin) method\n",
            "- Hamming window with 0.0194 passband ripple and 53 dB stopband attenuation\n",
            "- Lower passband edge: 49.38\n",
            "- Lower transition bandwidth: 0.50 Hz (-6 dB cutoff frequency: 49.12 Hz)\n",
            "- Upper passband edge: 50.62 Hz\n",
            "- Upper transition bandwidth: 0.50 Hz (-6 dB cutoff frequency: 50.88 Hz)\n",
            "- Filter length: 3301 samples (6.602 s)\n",
            "\n",
            "Setting up band-stop filter from 49 - 51 Hz\n",
            "\n",
            "FIR filter parameters\n",
            "---------------------\n",
            "Designing a one-pass, zero-phase, non-causal bandstop filter:\n",
            "- Windowed time-domain design (firwin) method\n",
            "- Hamming window with 0.0194 passband ripple and 53 dB stopband attenuation\n",
            "- Lower passband edge: 49.38\n",
            "- Lower transition bandwidth: 0.50 Hz (-6 dB cutoff frequency: 49.12 Hz)\n",
            "- Upper passband edge: 50.62 Hz\n",
            "- Upper transition bandwidth: 0.50 Hz (-6 dB cutoff frequency: 50.88 Hz)\n",
            "- Filter length: 3301 samples (6.602 s)\n",
            "\n",
            "Setting up band-stop filter from 49 - 51 Hz\n",
            "\n",
            "FIR filter parameters\n",
            "---------------------\n",
            "Designing a one-pass, zero-phase, non-causal bandstop filter:\n",
            "- Windowed time-domain design (firwin) method\n",
            "- Hamming window with 0.0194 passband ripple and 53 dB stopband attenuation\n",
            "- Lower passband edge: 49.38\n",
            "- Lower transition bandwidth: 0.50 Hz (-6 dB cutoff frequency: 49.12 Hz)\n",
            "- Upper passband edge: 50.62 Hz\n",
            "- Upper transition bandwidth: 0.50 Hz (-6 dB cutoff frequency: 50.88 Hz)\n"
          ]
        },
        {
          "output_type": "stream",
          "name": "stderr",
          "text": [
            "[Parallel(n_jobs=1)]: Done  17 tasks      | elapsed:    0.0s\n",
            "[Parallel(n_jobs=1)]: Done  17 tasks      | elapsed:    0.0s\n",
            "[Parallel(n_jobs=1)]: Done  17 tasks      | elapsed:    0.0s\n"
          ]
        },
        {
          "output_type": "stream",
          "name": "stdout",
          "text": [
            "- Filter length: 3301 samples (6.602 s)\n",
            "\n",
            "Setting up band-stop filter from 49 - 51 Hz\n",
            "\n",
            "FIR filter parameters\n",
            "---------------------\n",
            "Designing a one-pass, zero-phase, non-causal bandstop filter:\n",
            "- Windowed time-domain design (firwin) method\n",
            "- Hamming window with 0.0194 passband ripple and 53 dB stopband attenuation\n",
            "- Lower passband edge: 49.38\n",
            "- Lower transition bandwidth: 0.50 Hz (-6 dB cutoff frequency: 49.12 Hz)\n",
            "- Upper passband edge: 50.62 Hz\n",
            "- Upper transition bandwidth: 0.50 Hz (-6 dB cutoff frequency: 50.88 Hz)\n",
            "- Filter length: 3301 samples (6.602 s)\n",
            "\n",
            "Setting up band-stop filter from 49 - 51 Hz\n",
            "\n",
            "FIR filter parameters\n",
            "---------------------\n",
            "Designing a one-pass, zero-phase, non-causal bandstop filter:\n",
            "- Windowed time-domain design (firwin) method\n",
            "- Hamming window with 0.0194 passband ripple and 53 dB stopband attenuation\n",
            "- Lower passband edge: 49.38\n",
            "- Lower transition bandwidth: 0.50 Hz (-6 dB cutoff frequency: 49.12 Hz)\n",
            "- Upper passband edge: 50.62 Hz\n",
            "- Upper transition bandwidth: 0.50 Hz (-6 dB cutoff frequency: 50.88 Hz)\n",
            "- Filter length: 3301 samples (6.602 s)\n",
            "\n",
            "Setting up band-stop filter from 49 - 51 Hz\n",
            "\n",
            "FIR filter parameters\n",
            "---------------------\n",
            "Designing a one-pass, zero-phase, non-causal bandstop filter:\n",
            "- Windowed time-domain design (firwin) method\n",
            "- Hamming window with 0.0194 passband ripple and 53 dB stopband attenuation\n",
            "- Lower passband edge: 49.38\n",
            "- Lower transition bandwidth: 0.50 Hz (-6 dB cutoff frequency: 49.12 Hz)\n",
            "- Upper passband edge: 50.62 Hz\n",
            "- Upper transition bandwidth: 0.50 Hz (-6 dB cutoff frequency: 50.88 Hz)\n"
          ]
        },
        {
          "output_type": "stream",
          "name": "stderr",
          "text": [
            "[Parallel(n_jobs=1)]: Done  17 tasks      | elapsed:    0.0s\n",
            "[Parallel(n_jobs=1)]: Done  17 tasks      | elapsed:    0.0s\n",
            "[Parallel(n_jobs=1)]: Done  17 tasks      | elapsed:    0.0s\n"
          ]
        },
        {
          "output_type": "stream",
          "name": "stdout",
          "text": [
            "- Filter length: 3301 samples (6.602 s)\n",
            "\n",
            "Setting up band-stop filter from 49 - 51 Hz\n",
            "\n",
            "FIR filter parameters\n",
            "---------------------\n",
            "Designing a one-pass, zero-phase, non-causal bandstop filter:\n",
            "- Windowed time-domain design (firwin) method\n",
            "- Hamming window with 0.0194 passband ripple and 53 dB stopband attenuation\n",
            "- Lower passband edge: 49.38\n",
            "- Lower transition bandwidth: 0.50 Hz (-6 dB cutoff frequency: 49.12 Hz)\n",
            "- Upper passband edge: 50.62 Hz\n",
            "- Upper transition bandwidth: 0.50 Hz (-6 dB cutoff frequency: 50.88 Hz)\n",
            "- Filter length: 3301 samples (6.602 s)\n",
            "\n",
            "Setting up band-stop filter from 49 - 51 Hz\n",
            "\n",
            "FIR filter parameters\n",
            "---------------------\n",
            "Designing a one-pass, zero-phase, non-causal bandstop filter:\n",
            "- Windowed time-domain design (firwin) method\n",
            "- Hamming window with 0.0194 passband ripple and 53 dB stopband attenuation\n",
            "- Lower passband edge: 49.38\n",
            "- Lower transition bandwidth: 0.50 Hz (-6 dB cutoff frequency: 49.12 Hz)\n",
            "- Upper passband edge: 50.62 Hz\n",
            "- Upper transition bandwidth: 0.50 Hz (-6 dB cutoff frequency: 50.88 Hz)\n",
            "- Filter length: 3301 samples (6.602 s)\n",
            "\n",
            "Setting up band-stop filter from 49 - 51 Hz\n",
            "\n"
          ]
        },
        {
          "output_type": "stream",
          "name": "stderr",
          "text": [
            "[Parallel(n_jobs=1)]: Done  17 tasks      | elapsed:    0.0s\n",
            "[Parallel(n_jobs=1)]: Done  17 tasks      | elapsed:    0.0s\n",
            "[Parallel(n_jobs=1)]: Done  17 tasks      | elapsed:    0.0s\n"
          ]
        },
        {
          "output_type": "stream",
          "name": "stdout",
          "text": [
            "FIR filter parameters\n",
            "---------------------\n",
            "Designing a one-pass, zero-phase, non-causal bandstop filter:\n",
            "- Windowed time-domain design (firwin) method\n",
            "- Hamming window with 0.0194 passband ripple and 53 dB stopband attenuation\n",
            "- Lower passband edge: 49.38\n",
            "- Lower transition bandwidth: 0.50 Hz (-6 dB cutoff frequency: 49.12 Hz)\n",
            "- Upper passband edge: 50.62 Hz\n",
            "- Upper transition bandwidth: 0.50 Hz (-6 dB cutoff frequency: 50.88 Hz)\n",
            "- Filter length: 3301 samples (6.602 s)\n",
            "\n",
            "Setting up band-stop filter from 49 - 51 Hz\n",
            "\n",
            "FIR filter parameters\n",
            "---------------------\n",
            "Designing a one-pass, zero-phase, non-causal bandstop filter:\n",
            "- Windowed time-domain design (firwin) method\n",
            "- Hamming window with 0.0194 passband ripple and 53 dB stopband attenuation\n",
            "- Lower passband edge: 49.38\n",
            "- Lower transition bandwidth: 0.50 Hz (-6 dB cutoff frequency: 49.12 Hz)\n",
            "- Upper passband edge: 50.62 Hz\n",
            "- Upper transition bandwidth: 0.50 Hz (-6 dB cutoff frequency: 50.88 Hz)\n",
            "- Filter length: 3301 samples (6.602 s)\n",
            "\n",
            "Setting up band-stop filter from 49 - 51 Hz\n",
            "\n",
            "FIR filter parameters\n",
            "---------------------\n",
            "Designing a one-pass, zero-phase, non-causal bandstop filter:\n",
            "- Windowed time-domain design (firwin) method\n",
            "- Hamming window with 0.0194 passband ripple and 53 dB stopband attenuation\n",
            "- Lower passband edge: 49.38\n",
            "- Lower transition bandwidth: 0.50 Hz (-6 dB cutoff frequency: 49.12 Hz)\n",
            "- Upper passband edge: 50.62 Hz\n",
            "- Upper transition bandwidth: 0.50 Hz (-6 dB cutoff frequency: 50.88 Hz)\n",
            "- Filter length: 3301 samples (6.602 s)\n",
            "\n"
          ]
        },
        {
          "output_type": "stream",
          "name": "stderr",
          "text": [
            "[Parallel(n_jobs=1)]: Done  17 tasks      | elapsed:    0.0s\n",
            "[Parallel(n_jobs=1)]: Done  17 tasks      | elapsed:    0.1s\n"
          ]
        },
        {
          "output_type": "stream",
          "name": "stdout",
          "text": [
            "Setting up band-stop filter from 49 - 51 Hz\n",
            "\n",
            "FIR filter parameters\n",
            "---------------------\n",
            "Designing a one-pass, zero-phase, non-causal bandstop filter:\n",
            "- Windowed time-domain design (firwin) method\n",
            "- Hamming window with 0.0194 passband ripple and 53 dB stopband attenuation\n",
            "- Lower passband edge: 49.38\n",
            "- Lower transition bandwidth: 0.50 Hz (-6 dB cutoff frequency: 49.12 Hz)\n",
            "- Upper passband edge: 50.62 Hz\n",
            "- Upper transition bandwidth: 0.50 Hz (-6 dB cutoff frequency: 50.88 Hz)\n",
            "- Filter length: 3301 samples (6.602 s)\n",
            "\n",
            "Setting up band-stop filter from 49 - 51 Hz\n",
            "\n",
            "FIR filter parameters\n",
            "---------------------\n",
            "Designing a one-pass, zero-phase, non-causal bandstop filter:\n",
            "- Windowed time-domain design (firwin) method\n",
            "- Hamming window with 0.0194 passband ripple and 53 dB stopband attenuation\n",
            "- Lower passband edge: 49.38\n",
            "- Lower transition bandwidth: 0.50 Hz (-6 dB cutoff frequency: 49.12 Hz)\n",
            "- Upper passband edge: 50.62 Hz\n",
            "- Upper transition bandwidth: 0.50 Hz (-6 dB cutoff frequency: 50.88 Hz)\n",
            "- Filter length: 3301 samples (6.602 s)\n",
            "\n"
          ]
        },
        {
          "output_type": "stream",
          "name": "stderr",
          "text": [
            "[Parallel(n_jobs=1)]: Done  17 tasks      | elapsed:    0.0s\n",
            "[Parallel(n_jobs=1)]: Done  17 tasks      | elapsed:    0.0s\n",
            "[Parallel(n_jobs=1)]: Done  17 tasks      | elapsed:    0.1s\n"
          ]
        },
        {
          "output_type": "execute_result",
          "data": {
            "text/plain": [
              "<RawArray | 21 x 806000 (1612.0 s), ~129.2 MB, data loaded>"
            ],
            "text/html": [
              "<details open>\n",
              "    <summary><strong>General</strong></summary>\n",
              "    <table class=\"table table-hover table-striped table-sm table-responsive small\">\n",
              "        <tr>\n",
              "            <th>Measurement date</th>\n",
              "            \n",
              "            <td>Unknown</td>\n",
              "            \n",
              "        </tr>\n",
              "        <tr>\n",
              "            <th>Experimenter</th>\n",
              "            \n",
              "            <td>Unknown</td>\n",
              "            \n",
              "        </tr>\n",
              "        <tr>\n",
              "            <th>Participant</th>\n",
              "            \n",
              "            <td>Unknown</td>\n",
              "            \n",
              "        </tr>\n",
              "    </table>\n",
              "    </details>\n",
              "    <details open>\n",
              "        <summary><strong>Channels</strong></summary>\n",
              "        <table class=\"table table-hover table-striped table-sm table-responsive small\">\n",
              "            <tr>\n",
              "                <th>Digitized points</th>\n",
              "                \n",
              "                <td>Not available</td>\n",
              "                \n",
              "            </tr>\n",
              "            <tr>\n",
              "                <th>Good channels</th>\n",
              "                <td>21 EEG</td>\n",
              "            </tr>\n",
              "            <tr>\n",
              "                <th>Bad channels</th>\n",
              "                <td>None</td>\n",
              "            </tr>\n",
              "            <tr>\n",
              "                <th>EOG channels</th>\n",
              "                <td>Not available</td>\n",
              "            </tr>\n",
              "            <tr>\n",
              "                <th>ECG channels</th>\n",
              "                <td>Not available</td>\n",
              "            </tr>\n",
              "        </table>\n",
              "        </details>\n",
              "        <details open>\n",
              "            <summary><strong>Data</strong></summary>\n",
              "            <table class=\"table table-hover table-striped table-sm table-responsive small\">\n",
              "                \n",
              "                <tr>\n",
              "                    <th>Sampling frequency</th>\n",
              "                    <td>500.00 Hz</td>\n",
              "                </tr>\n",
              "                \n",
              "                \n",
              "                <tr>\n",
              "                    <th>Highpass</th>\n",
              "                    <td>1.00 Hz</td>\n",
              "                </tr>\n",
              "                \n",
              "                \n",
              "                <tr>\n",
              "                    <th>Lowpass</th>\n",
              "                    <td>30.00 Hz</td>\n",
              "                </tr>\n",
              "                \n",
              "                \n",
              "                \n",
              "                \n",
              "                <tr>\n",
              "                    <th>Duration</th>\n",
              "                    <td>00:26:52 (HH:MM:SS)</td>\n",
              "                </tr>\n",
              "                \n",
              "            </table>\n",
              "            </details>"
            ]
          },
          "metadata": {},
          "execution_count": 15
        }
      ]
    },
    {
      "cell_type": "markdown",
      "source": [
        "## Step 2: Power Spectral Density (PSD) Analysis:"
      ],
      "metadata": {
        "id": "OAjwnWpAqoMN"
      }
    },
    {
      "cell_type": "markdown",
      "source": [
        "### Calculating PSD"
      ],
      "metadata": {
        "id": "Wo86up-_qdqC"
      }
    },
    {
      "cell_type": "code",
      "source": [
        "bands = {'Delta': (1, 4), 'Theta': (4, 8), 'Alpha': (8, 12), 'Beta': (12, 30), 'Gamma':(30, 100)}\n",
        "\n",
        "def calculate_band_psd(raw, bands):\n",
        "    data = raw.get_data()\n",
        "    sfreq = raw.info['sfreq']\n",
        "\n",
        "    freqs, psd = welch(data, fs=sfreq, nperseg=1024, noverlap=512,\n",
        "                       nfft=2048, axis=-1)\n",
        "\n",
        "    psds_band = {}\n",
        "    for band_name, (fmin, fmax) in bands.items():\n",
        "        freq_mask = (freqs >= fmin) & (freqs <= fmax)\n",
        "        psds_band[band_name] = psd[:, freq_mask]\n",
        "\n",
        "    return psds_band, freqs"
      ],
      "metadata": {
        "id": "ixbOyh5vqnhY"
      },
      "execution_count": 16,
      "outputs": []
    },
    {
      "cell_type": "markdown",
      "source": [
        "### Calculating PSD for rest and task"
      ],
      "metadata": {
        "id": "aB0MMIwMrd1c"
      }
    },
    {
      "cell_type": "code",
      "source": [
        "psd_rest, freqs_rest = calculate_band_psd(raw_rest_combined, bands)\n",
        "psd_task, freqs_task = calculate_band_psd(raw_task_combined, bands)"
      ],
      "metadata": {
        "id": "IWAmOMR-riPr"
      },
      "execution_count": 17,
      "outputs": []
    },
    {
      "cell_type": "markdown",
      "source": [
        "### PSD comparison"
      ],
      "metadata": {
        "id": "fE_l6VA-rq_6"
      }
    },
    {
      "cell_type": "code",
      "source": [
        "plt.figure(figsize=(12, 6))\n",
        "for band in bands.keys():\n",
        "    fmin, fmax = bands[band]\n",
        "    freq_mask = (freqs_rest >= fmin) & (freqs_rest <= fmax)\n",
        "\n",
        "    plt.plot(freqs_rest[freq_mask],\n",
        "             psd_rest[band].mean(axis=0),\n",
        "             label=f'Rest {band}')\n",
        "    plt.plot(freqs_task[freq_mask],\n",
        "             psd_task[band].mean(axis=0),\n",
        "             label=f'Task {band}')\n",
        "\n",
        "plt.xlabel('Frequency (Hz)')\n",
        "plt.ylabel('Power Spectral Density (uV^2/Hz)')\n",
        "plt.legend()\n",
        "plt.title('PSD Comparison between Rest and Task States')\n",
        "plt.show()"
      ],
      "metadata": {
        "colab": {
          "base_uri": "https://localhost:8080/",
          "height": 418
        },
        "id": "1_fwXtgrrt3M",
        "outputId": "c184d1f8-3eb6-43a0-e50e-17afa6bc1a6e"
      },
      "execution_count": 18,
      "outputs": [
        {
          "output_type": "display_data",
          "data": {
            "text/plain": [
              "<Figure size 1200x600 with 1 Axes>"
            ],
            "image/png": "[encoded data removed]"
          },
          "metadata": {}
        }
      ]
    },
    {
      "cell_type": "markdown",
      "source": [
        "### Summary"
      ],
      "metadata": {
        "id": "PmUaHcwBr57Z"
      }
    },
    {
      "cell_type": "code",
      "source": [
        "for band in bands.keys():\n",
        "    rest_mean_psd = psd_rest[band].mean()\n",
        "    task_mean_psd = psd_task[band].mean()\n",
        "    print(f\"Mean PSD for {band} band during rest: {rest_mean_psd:.4f}\")\n",
        "    print(f\"Mean PSD for {band} band during task: {task_mean_psd:.4f}\")\n",
        "    print(f\"Difference in mean PSD for {band} band: {task_mean_psd - rest_mean_psd:.4f}\\n\")"
      ],
      "metadata": {
        "colab": {
          "base_uri": "https://localhost:8080/"
        },
        "id": "l4sQTftEr7Zh",
        "outputId": "7fe4c76d-18cb-4f61-efa3-49d67e1065e9"
      },
      "execution_count": 19,
      "outputs": [
        {
          "output_type": "stream",
          "name": "stdout",
          "text": [
            "Mean PSD for Delta band during rest: 8.3818\n",
            "Mean PSD for Delta band during task: 9.4613\n",
            "Difference in mean PSD for Delta band: 1.0795\n",
            "\n",
            "Mean PSD for Theta band during rest: 3.4752\n",
            "Mean PSD for Theta band during task: 3.1322\n",
            "Difference in mean PSD for Theta band: -0.3429\n",
            "\n",
            "Mean PSD for Alpha band during rest: 7.9525\n",
            "Mean PSD for Alpha band during task: 5.4180\n",
            "Difference in mean PSD for Alpha band: -2.5345\n",
            "\n",
            "Mean PSD for Beta band during rest: 0.7178\n",
            "Mean PSD for Beta band during task: 0.6272\n",
            "Difference in mean PSD for Beta band: -0.0906\n",
            "\n",
            "Mean PSD for Gamma band during rest: 0.0062\n",
            "Mean PSD for Gamma band during task: 0.0072\n",
            "Difference in mean PSD for Gamma band: 0.0009\n",
            "\n"
          ]
        }
      ]
    },
    {
      "cell_type": "markdown",
      "source": [
        "## Step 3: Deep learning classification"
      ],
      "metadata": {
        "id": "3cluTxUFt5-X"
      }
    },
    {
      "cell_type": "markdown",
      "source": [
        "### Importing the necessary modules and packages"
      ],
      "metadata": {
        "id": "8l-5IssFuCA5"
      }
    },
    {
      "cell_type": "code",
      "source": [
        "import tensorflow as tf\n",
        "from tensorflow.keras.models import Model\n",
        "from tensorflow.keras.layers import Dense, Activation, Dropout, Input, Flatten\n",
        "from tensorflow.keras.layers import Conv2D, AveragePooling2D, SeparableConv2D\n",
        "from tensorflow.keras.layers import BatchNormalization, LayerNormalization\n",
        "from tensorflow.keras.constraints import max_norm\n",
        "from tensorflow.keras.regularizers import l1_l2\n",
        "import numpy as np"
      ],
      "metadata": {
        "id": "f_KXzOGDuHZG"
      },
      "execution_count": 20,
      "outputs": []
    },
    {
      "cell_type": "markdown",
      "source": [
        "### Defining the ATCNet"
      ],
      "metadata": {
        "id": "v1HO-o4suPXS"
      }
    },
    {
      "cell_type": "code",
      "source": [
        "def ATCNet(nb_classes, Chans=64, Samples=128, dropoutRate=0.5, kernLength=64, F1=8, D=2, F2=16, norm_rate=0.25, dropout_type='Dropout'):\n",
        "    input1 = Input(shape=(Chans, Samples, 1))\n",
        "\n",
        "    block1 = Conv2D(F1, (1, kernLength), padding='same', input_shape=(Chans, Samples, 1), use_bias=False)(input1)\n",
        "    block1 = BatchNormalization(axis=1)(block1)\n",
        "    block1 = DepthwiseConv2D((Chans, 1), use_bias=False, depth_multiplier=D, depthwise_constraint=max_norm(1.))(block1)\n",
        "    block1 = BatchNormalization(axis=1)(block1)\n",
        "    block1 = Activation('elu')(block1)\n",
        "    block1 = AveragePooling2D((1, 4))(block1)\n",
        "    if dropout_type == 'SpatialDropout2D':\n",
        "        block1 = SpatialDropout2D(dropoutRate)(block1)\n",
        "    else:\n",
        "        block1 = Dropout(dropoutRate)(block1)\n",
        "\n",
        "    block2 = SeparableConv2D(F2, (1, 16), use_bias=False, padding='same')(block1)\n",
        "    block2 = BatchNormalization(axis=1)(block2)\n",
        "    block2 = Activation('elu')(block2)\n",
        "    block2 = AveragePooling2D((1, 8))(block2)\n",
        "    if dropout_type == 'SpatialDropout2D':\n",
        "        block2 = SpatialDropout2D(dropoutRate)(block2)\n",
        "    else:\n",
        "        block2 = Dropout(dropoutRate)(block2)\n",
        "\n",
        "    flatten = Flatten(name='flatten')(block2)\n",
        "\n",
        "    dense1 = Dense(nb_classes, name='dense', kernel_constraint=max_norm(norm_rate))(flatten)\n",
        "    dense1 = LayerNormalization()(dense1)\n",
        "    dense1 = Activation('elu')(dense1)\n",
        "    dense1 = Dropout(dropoutRate)(dense1)\n",
        "\n",
        "    dense2 = Dense(nb_classes, name='dense_2', kernel_constraint=max_norm(norm_rate))(dense1)\n",
        "    softmax = Activation('softmax', name='softmax')(dense2)\n",
        "\n",
        "    return Model(inputs=input1, outputs=softmax)"
      ],
      "metadata": {
        "id": "vj1EUYW8uWaH"
      },
      "execution_count": 21,
      "outputs": []
    },
    {
      "cell_type": "markdown",
      "source": [
        "### Find the minimum number of time points"
      ],
      "metadata": {
        "id": "YJor3bVpubup"
      }
    },
    {
      "cell_type": "code",
      "source": [
        "min_time_points = min(raw_rest_combined.n_times, raw_task_combined.n_times)"
      ],
      "metadata": {
        "id": "SS1KLkGjufJG"
      },
      "execution_count": 22,
      "outputs": []
    },
    {
      "cell_type": "markdown",
      "source": [
        "### Truncate both datasets"
      ],
      "metadata": {
        "id": "h12cLBYouiVM"
      }
    },
    {
      "cell_type": "code",
      "source": [
        "rest_data = raw_rest_combined.get_data()[:, :min_time_points]\n",
        "task_data = raw_task_combined.get_data()[:, :min_time_points]"
      ],
      "metadata": {
        "id": "Fm_jDOSHulLT"
      },
      "execution_count": 23,
      "outputs": []
    },
    {
      "cell_type": "markdown",
      "source": [
        "### Defining a window size and step size for creating trials"
      ],
      "metadata": {
        "id": "1O5hBR-cupVx"
      }
    },
    {
      "cell_type": "code",
      "source": [
        "window_size = 1000  # 1 second if sampling rate is 1000 Hz\n",
        "step_size = 500    # 50% overlap"
      ],
      "metadata": {
        "id": "rvJQIApXutHc"
      },
      "execution_count": 24,
      "outputs": []
    },
    {
      "cell_type": "markdown",
      "source": [
        "### Function to create trials"
      ],
      "metadata": {
        "id": "3nKI53Fcuxr0"
      }
    },
    {
      "cell_type": "code",
      "source": [
        "def create_trials(data, window_size, step_size):\n",
        "    n_channels, n_times = data.shape\n",
        "    trials = []\n",
        "    for start in range(0, n_times - window_size + 1, step_size):\n",
        "        end = start + window_size\n",
        "        trials.append(data[:, start:end])\n",
        "    return np.array(trials)"
      ],
      "metadata": {
        "id": "8pAwXUwsu0QR"
      },
      "execution_count": 25,
      "outputs": []
    },
    {
      "cell_type": "markdown",
      "source": [
        "### Creating Trials"
      ],
      "metadata": {
        "id": "cAcKYC86u2hx"
      }
    },
    {
      "cell_type": "code",
      "source": [
        "rest_trials = create_trials(rest_data, window_size, step_size)\n",
        "task_trials = create_trials(task_data, window_size, step_size)"
      ],
      "metadata": {
        "id": "3s-GayLQu7pF"
      },
      "execution_count": 26,
      "outputs": []
    },
    {
      "cell_type": "markdown",
      "source": [
        "### Concatenation"
      ],
      "metadata": {
        "id": "XjMei1-pu9Hy"
      }
    },
    {
      "cell_type": "code",
      "source": [
        "X = np.concatenate([rest_trials, task_trials])"
      ],
      "metadata": {
        "id": "2deuM_CTvAbs"
      },
      "execution_count": 27,
      "outputs": []
    },
    {
      "cell_type": "markdown",
      "source": [
        "### Creating Labels"
      ],
      "metadata": {
        "id": "-ISwd4XDvDjA"
      }
    },
    {
      "cell_type": "code",
      "source": [
        "y = np.concatenate([np.zeros(rest_trials.shape[0]), np.ones(task_trials.shape[0])])"
      ],
      "metadata": {
        "id": "AEldZe57vHiP"
      },
      "execution_count": 28,
      "outputs": []
    },
    {
      "cell_type": "markdown",
      "source": [
        "### Conversion of labels to categorical"
      ],
      "metadata": {
        "id": "X2XjODjPvKcA"
      }
    },
    {
      "cell_type": "code",
      "source": [
        "from tensorflow.keras.utils import to_categorical\n",
        "y = to_categorical(y, num_classes=2)\n",
        "\n",
        "print(\"X shape:\", X.shape)\n",
        "print(\"y shape:\", y.shape)"
      ],
      "metadata": {
        "colab": {
          "base_uri": "https://localhost:8080/"
        },
        "id": "HWCzWRCivPFq",
        "outputId": "8d3f6836-72bf-45fc-b490-52a5f3c8ee54"
      },
      "execution_count": 29,
      "outputs": [
        {
          "output_type": "stream",
          "name": "stdout",
          "text": [
            "X shape: (3222, 21, 1000)\n",
            "y shape: (3222, 2)\n"
          ]
        }
      ]
    },
    {
      "cell_type": "markdown",
      "source": [
        "### Split Data"
      ],
      "metadata": {
        "id": "OW1HlRRlvSWk"
      }
    },
    {
      "cell_type": "code",
      "source": [
        "from sklearn.model_selection import train_test_split\n",
        "X_train, X_test, y_train, y_test = train_test_split(X, y, test_size=0.2, random_state=42)"
      ],
      "metadata": {
        "id": "StIS_FQHvVLA"
      },
      "execution_count": 30,
      "outputs": []
    },
    {
      "cell_type": "markdown",
      "source": [
        "### Reshaping data for ATCNet"
      ],
      "metadata": {
        "id": "Hf36Dj-lvZT4"
      }
    },
    {
      "cell_type": "code",
      "source": [
        "X_train = X_train.reshape(X_train.shape[0], X_train.shape[1], X_train.shape[2], 1)\n",
        "X_test = X_test.reshape(X_test.shape[0], X_test.shape[1], X_test.shape[2], 1)\n",
        "\n",
        "print(\"X_train shape:\", X_train.shape)\n",
        "print(\"X_test shape:\", X_test.shape)\n"
      ],
      "metadata": {
        "colab": {
          "base_uri": "https://localhost:8080/"
        },
        "id": "UMU_pi_fvcTb",
        "outputId": "697ecaf8-496c-445f-f31d-10d4fcac190a"
      },
      "execution_count": 31,
      "outputs": [
        {
          "output_type": "stream",
          "name": "stdout",
          "text": [
            "X_train shape: (2577, 21, 1000, 1)\n",
            "X_test shape: (645, 21, 1000, 1)\n"
          ]
        }
      ]
    },
    {
      "cell_type": "markdown",
      "source": [
        "### Creating the model"
      ],
      "metadata": {
        "id": "9EgXtk7mvfEc"
      }
    },
    {
      "cell_type": "code",
      "source": [
        "from tensorflow.keras.layers import DepthwiseConv2D # Import DepthwiseConv2D from Keras\n",
        "\n",
        "model = ATCNet(nb_classes=2, Chans=X_train.shape[1], Samples=X_train.shape[2])\n",
        "model.compile(optimizer='adam',\n",
        "              loss='categorical_crossentropy',\n",
        "              metrics=['accuracy'])"
      ],
      "metadata": {
        "id": "reabaEBAvjmi"
      },
      "execution_count": 33,
      "outputs": []
    },
    {
      "cell_type": "markdown",
      "source": [
        "### Training the model"
      ],
      "metadata": {
        "id": "M067bWAIv_8o"
      }
    },
    {
      "cell_type": "code",
      "source": [
        "history = model.fit(X_train, y_train, batch_size=32, epochs=50, validation_split=0.2)\n"
      ],
      "metadata": {
        "colab": {
          "base_uri": "https://localhost:8080/"
        },
        "id": "EDUdEZkMwCkI",
        "outputId": "60e19897-fba4-4e61-89a2-ed28a7b4a18a"
      },
      "execution_count": 34,
      "outputs": [
        {
          "output_type": "stream",
          "name": "stdout",
          "text": [
            "Epoch 1/50\n",
            "65/65 [==============================] - 68s 908ms/step - loss: 0.7109 - accuracy: 0.5046 - val_loss: nan - val_accuracy: 0.5000\n",
            "Epoch 2/50\n",
            "65/65 [==============================] - 53s 820ms/step - loss: 0.6984 - accuracy: 0.5201 - val_loss: nan - val_accuracy: 0.4884\n",
            "Epoch 3/50\n",
            "65/65 [==============================] - 52s 797ms/step - loss: 0.7043 - accuracy: 0.4799 - val_loss: nan - val_accuracy: 0.4884\n",
            "Epoch 4/50\n",
            "65/65 [==============================] - 51s 783ms/step - loss: 0.6996 - accuracy: 0.5017 - val_loss: 0.6937 - val_accuracy: 0.4903\n",
            "Epoch 5/50\n",
            "65/65 [==============================] - 52s 801ms/step - loss: 0.6975 - accuracy: 0.4988 - val_loss: 0.6939 - val_accuracy: 0.4884\n",
            "Epoch 6/50\n",
            "65/65 [==============================] - 52s 798ms/step - loss: 0.6949 - accuracy: 0.5066 - val_loss: nan - val_accuracy: 0.4884\n",
            "Epoch 7/50\n",
            "65/65 [==============================] - 51s 781ms/step - loss: 0.6946 - accuracy: 0.5051 - val_loss: 0.6934 - val_accuracy: 0.4903\n",
            "Epoch 8/50\n",
            "65/65 [==============================] - 51s 790ms/step - loss: 0.6971 - accuracy: 0.4833 - val_loss: 0.6940 - val_accuracy: 0.4884\n",
            "Epoch 9/50\n",
            "65/65 [==============================] - 52s 796ms/step - loss: 0.6936 - accuracy: 0.5066 - val_loss: nan - val_accuracy: 0.4884\n",
            "Epoch 10/50\n",
            "65/65 [==============================] - 50s 767ms/step - loss: 0.6928 - accuracy: 0.5129 - val_loss: nan - val_accuracy: 0.4884\n",
            "Epoch 11/50\n",
            "65/65 [==============================] - 53s 811ms/step - loss: 0.6932 - accuracy: 0.5090 - val_loss: 0.6953 - val_accuracy: 0.4651\n",
            "Epoch 12/50\n",
            "65/65 [==============================] - 52s 809ms/step - loss: 0.6940 - accuracy: 0.4959 - val_loss: 0.6939 - val_accuracy: 0.4884\n",
            "Epoch 13/50\n",
            "65/65 [==============================] - 52s 797ms/step - loss: 0.6942 - accuracy: 0.4881 - val_loss: nan - val_accuracy: 0.4884\n",
            "Epoch 14/50\n",
            "65/65 [==============================] - 52s 807ms/step - loss: 0.6929 - accuracy: 0.5114 - val_loss: nan - val_accuracy: 0.4884\n",
            "Epoch 15/50\n",
            "65/65 [==============================] - 52s 805ms/step - loss: 0.6941 - accuracy: 0.4881 - val_loss: 0.6936 - val_accuracy: 0.4845\n",
            "Epoch 16/50\n",
            "65/65 [==============================] - 51s 786ms/step - loss: 0.6932 - accuracy: 0.5133 - val_loss: 0.6934 - val_accuracy: 0.4884\n",
            "Epoch 17/50\n",
            "65/65 [==============================] - 51s 778ms/step - loss: 0.6933 - accuracy: 0.4978 - val_loss: nan - val_accuracy: 0.4845\n",
            "Epoch 18/50\n",
            "65/65 [==============================] - 53s 817ms/step - loss: 0.6931 - accuracy: 0.5080 - val_loss: nan - val_accuracy: 0.4884\n",
            "Epoch 19/50\n",
            "65/65 [==============================] - 51s 787ms/step - loss: 0.6932 - accuracy: 0.5095 - val_loss: nan - val_accuracy: 0.4884\n",
            "Epoch 20/50\n",
            "65/65 [==============================] - 51s 786ms/step - loss: 0.6931 - accuracy: 0.5032 - val_loss: nan - val_accuracy: 0.4884\n",
            "Epoch 21/50\n",
            "65/65 [==============================] - 53s 813ms/step - loss: 0.6938 - accuracy: 0.4998 - val_loss: nan - val_accuracy: 0.4884\n",
            "Epoch 22/50\n",
            "65/65 [==============================] - 52s 795ms/step - loss: 0.6932 - accuracy: 0.5104 - val_loss: nan - val_accuracy: 0.5078\n",
            "Epoch 23/50\n",
            "65/65 [==============================] - 50s 771ms/step - loss: 0.6929 - accuracy: 0.5138 - val_loss: nan - val_accuracy: 0.5310\n",
            "Epoch 24/50\n",
            "65/65 [==============================] - 52s 810ms/step - loss: 0.6937 - accuracy: 0.4857 - val_loss: 0.6930 - val_accuracy: 0.5116\n",
            "Epoch 25/50\n",
            "65/65 [==============================] - 54s 835ms/step - loss: 0.6929 - accuracy: 0.5104 - val_loss: nan - val_accuracy: 0.5078\n",
            "Epoch 26/50\n",
            "65/65 [==============================] - 51s 785ms/step - loss: 0.6932 - accuracy: 0.5104 - val_loss: nan - val_accuracy: 0.5194\n",
            "Epoch 27/50\n",
            "65/65 [==============================] - 52s 794ms/step - loss: 0.6931 - accuracy: 0.5104 - val_loss: nan - val_accuracy: 0.5310\n",
            "Epoch 28/50\n",
            "65/65 [==============================] - 51s 794ms/step - loss: 0.6931 - accuracy: 0.5104 - val_loss: 0.6930 - val_accuracy: 0.5116\n",
            "Epoch 29/50\n",
            "65/65 [==============================] - 51s 780ms/step - loss: 0.6932 - accuracy: 0.5104 - val_loss: nan - val_accuracy: 0.4884\n",
            "Epoch 30/50\n",
            "65/65 [==============================] - 50s 770ms/step - loss: 0.6929 - accuracy: 0.5104 - val_loss: nan - val_accuracy: 0.5116\n",
            "Epoch 31/50\n",
            "65/65 [==============================] - 52s 807ms/step - loss: 0.6931 - accuracy: 0.5104 - val_loss: nan - val_accuracy: 0.5155\n",
            "Epoch 32/50\n",
            "65/65 [==============================] - 50s 778ms/step - loss: 0.6930 - accuracy: 0.5104 - val_loss: nan - val_accuracy: 0.5155\n",
            "Epoch 33/50\n",
            "65/65 [==============================] - 51s 776ms/step - loss: 0.6931 - accuracy: 0.5066 - val_loss: nan - val_accuracy: 0.5078\n",
            "Epoch 34/50\n",
            "65/65 [==============================] - 52s 801ms/step - loss: 0.6933 - accuracy: 0.5104 - val_loss: nan - val_accuracy: 0.5078\n",
            "Epoch 35/50\n",
            "65/65 [==============================] - 51s 781ms/step - loss: 0.6930 - accuracy: 0.5070 - val_loss: nan - val_accuracy: 0.5116\n",
            "Epoch 36/50\n",
            "65/65 [==============================] - 52s 802ms/step - loss: 0.6927 - accuracy: 0.5046 - val_loss: nan - val_accuracy: 0.4922\n",
            "Epoch 37/50\n",
            "65/65 [==============================] - 53s 816ms/step - loss: 0.6934 - accuracy: 0.4944 - val_loss: nan - val_accuracy: 0.5310\n",
            "Epoch 38/50\n",
            "65/65 [==============================] - 52s 795ms/step - loss: 0.6930 - accuracy: 0.5085 - val_loss: 0.6929 - val_accuracy: 0.5116\n",
            "Epoch 39/50\n",
            "65/65 [==============================] - 51s 780ms/step - loss: 0.6931 - accuracy: 0.5104 - val_loss: nan - val_accuracy: 0.5078\n",
            "Epoch 40/50\n",
            "65/65 [==============================] - 53s 812ms/step - loss: 0.6932 - accuracy: 0.5104 - val_loss: nan - val_accuracy: 0.5000\n",
            "Epoch 41/50\n",
            "65/65 [==============================] - 51s 784ms/step - loss: 0.6931 - accuracy: 0.5104 - val_loss: nan - val_accuracy: 0.5078\n",
            "Epoch 42/50\n",
            "65/65 [==============================] - 50s 771ms/step - loss: 0.6932 - accuracy: 0.5104 - val_loss: 0.6929 - val_accuracy: 0.5116\n",
            "Epoch 43/50\n",
            "65/65 [==============================] - 53s 814ms/step - loss: 0.6932 - accuracy: 0.5104 - val_loss: 0.6929 - val_accuracy: 0.5116\n",
            "Epoch 44/50\n",
            "65/65 [==============================] - 52s 801ms/step - loss: 0.6930 - accuracy: 0.5104 - val_loss: nan - val_accuracy: 0.4845\n",
            "Epoch 45/50\n",
            "65/65 [==============================] - 51s 774ms/step - loss: 0.6931 - accuracy: 0.5104 - val_loss: nan - val_accuracy: 0.5000\n",
            "Epoch 46/50\n",
            "65/65 [==============================] - 53s 811ms/step - loss: 0.6928 - accuracy: 0.5104 - val_loss: nan - val_accuracy: 0.5116\n",
            "Epoch 47/50\n",
            "65/65 [==============================] - 52s 797ms/step - loss: 0.6933 - accuracy: 0.5104 - val_loss: 0.6929 - val_accuracy: 0.5116\n",
            "Epoch 48/50\n",
            "65/65 [==============================] - 52s 796ms/step - loss: 0.6931 - accuracy: 0.5104 - val_loss: nan - val_accuracy: 0.5039\n",
            "Epoch 49/50\n",
            "65/65 [==============================] - 53s 810ms/step - loss: 0.6931 - accuracy: 0.5104 - val_loss: nan - val_accuracy: 0.4981\n",
            "Epoch 50/50\n",
            "65/65 [==============================] - 52s 808ms/step - loss: 0.6931 - accuracy: 0.5104 - val_loss: nan - val_accuracy: 0.5155\n"
          ]
        }
      ]
    },
    {
      "cell_type": "markdown",
      "source": [
        "### Evaluating the model"
      ],
      "metadata": {
        "id": "kyUOtGq67SUJ"
      }
    },
    {
      "cell_type": "code",
      "source": [
        "from sklearn.metrics import accuracy_score, precision_score, recall_score, f1_score\n",
        "\n",
        "y_pred = model.predict(X_test)\n",
        "y_pred_classes = np.argmax(y_pred, axis=1)\n",
        "y_test_classes = np.argmax(y_test, axis=1)\n",
        "\n",
        "print(\"Accuracy:\", accuracy_score(y_test_classes, y_pred_classes))\n",
        "print(\"Precision:\", precision_score(y_test_classes, y_pred_classes, average='weighted'))\n",
        "print(\"Recall:\", recall_score(y_test_classes, y_pred_classes, average='weighted'))\n",
        "print(\"F1-score:\", f1_score(y_test_classes, y_pred_classes, average='weighted'))"
      ],
      "metadata": {
        "colab": {
          "base_uri": "https://localhost:8080/"
        },
        "id": "cWHJ_ZBC7Vj_",
        "outputId": "e3259b66-682e-4b9b-e558-a9a450e34937"
      },
      "execution_count": 35,
      "outputs": [
        {
          "output_type": "stream",
          "name": "stdout",
          "text": [
            "21/21 [==============================] - 5s 215ms/step\n",
            "Accuracy: 0.4728682170542636\n",
            "Precision: 0.5679993866737484\n",
            "Recall: 0.4728682170542636\n",
            "F1-score: 0.3457660780257223\n"
          ]
        }
      ]
    }
  ]
}